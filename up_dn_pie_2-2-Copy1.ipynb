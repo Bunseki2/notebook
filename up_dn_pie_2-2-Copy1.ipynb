{
 "cells": [
  {
   "cell_type": "code",
   "execution_count": 1,
   "metadata": {
    "collapsed": false,
    "deletable": true,
    "editable": true
   },
   "outputs": [],
   "source": [
    "%matplotlib inline  \n",
    "\n",
    "import pandas as pd\n",
    "import numpy as np\n",
    "import matplotlib.pyplot as plt\n"
   ]
  },
  {
   "cell_type": "code",
   "execution_count": 23,
   "metadata": {
    "collapsed": false,
    "deletable": true,
    "editable": true
   },
   "outputs": [],
   "source": [
    "up_df=pd.read_excel('up_gene_count_ID.xls')"
   ]
  },
  {
   "cell_type": "code",
   "execution_count": 24,
   "metadata": {
    "collapsed": false,
    "deletable": true,
    "editable": true
   },
   "outputs": [
    {
     "name": "stdout",
     "output_type": "stream",
     "text": [
      "<class 'pandas.core.frame.DataFrame'>\n",
      "RangeIndex: 815 entries, 0 to 814\n",
      "Data columns (total 8 columns):\n",
      "Expr Intensity/RPKM/FPKM/Counts    815 non-null int64\n",
      "ID                                 815 non-null int64\n",
      "Flags                              815 non-null object\n",
      "Symbol                             815 non-null object\n",
      "Entrez Gene Name                   815 non-null object\n",
      "Location                           815 non-null object\n",
      "Type(s)                            815 non-null object\n",
      "Drug(s)                            815 non-null object\n",
      "dtypes: int64(2), object(6)\n",
      "memory usage: 51.0+ KB\n"
     ]
    }
   ],
   "source": [
    "up_df.info()"
   ]
  },
  {
   "cell_type": "code",
   "execution_count": 25,
   "metadata": {
    "collapsed": true,
    "deletable": true,
    "editable": true
   },
   "outputs": [],
   "source": [
    "up_df.columns=['count','ID', 'flags', 'symbol', 'GeneName', 'location','type', 'drug']"
   ]
  },
  {
   "cell_type": "code",
   "execution_count": 26,
   "metadata": {
    "collapsed": false,
    "deletable": true,
    "editable": true
   },
   "outputs": [
    {
     "data": {
      "text/html": [
       "<div>\n",
       "<table border=\"1\" class=\"dataframe\">\n",
       "  <thead>\n",
       "    <tr style=\"text-align: right;\">\n",
       "      <th></th>\n",
       "      <th>count</th>\n",
       "      <th>ID</th>\n",
       "      <th>flags</th>\n",
       "      <th>symbol</th>\n",
       "      <th>GeneName</th>\n",
       "      <th>location</th>\n",
       "      <th>type</th>\n",
       "      <th>drug</th>\n",
       "    </tr>\n",
       "  </thead>\n",
       "  <tbody>\n",
       "    <tr>\n",
       "      <th>0</th>\n",
       "      <td>3</td>\n",
       "      <td>1906</td>\n",
       "      <td></td>\n",
       "      <td>EDN1</td>\n",
       "      <td>endothelin 1</td>\n",
       "      <td>Extracellular Space</td>\n",
       "      <td>cytokine</td>\n",
       "      <td></td>\n",
       "    </tr>\n",
       "    <tr>\n",
       "      <th>1</th>\n",
       "      <td>8</td>\n",
       "      <td>3553</td>\n",
       "      <td></td>\n",
       "      <td>IL1B</td>\n",
       "      <td>interleukin 1 beta</td>\n",
       "      <td>Extracellular Space</td>\n",
       "      <td>cytokine</td>\n",
       "      <td>canakinumab, gevokizumab, canakinumab/INS, gal...</td>\n",
       "    </tr>\n",
       "    <tr>\n",
       "      <th>2</th>\n",
       "      <td>9</td>\n",
       "      <td>200734</td>\n",
       "      <td></td>\n",
       "      <td>SPRED2</td>\n",
       "      <td>sprouty related EVH1 domain containing 2</td>\n",
       "      <td>Extracellular Space</td>\n",
       "      <td>cytokine</td>\n",
       "      <td></td>\n",
       "    </tr>\n",
       "    <tr>\n",
       "      <th>3</th>\n",
       "      <td>10</td>\n",
       "      <td>6696</td>\n",
       "      <td></td>\n",
       "      <td>SPP1</td>\n",
       "      <td>secreted phosphoprotein 1</td>\n",
       "      <td>Extracellular Space</td>\n",
       "      <td>cytokine</td>\n",
       "      <td></td>\n",
       "    </tr>\n",
       "    <tr>\n",
       "      <th>4</th>\n",
       "      <td>14</td>\n",
       "      <td>10451</td>\n",
       "      <td></td>\n",
       "      <td>VAV3</td>\n",
       "      <td>vav guanine nucleotide exchange factor 3</td>\n",
       "      <td>Extracellular Space</td>\n",
       "      <td>cytokine</td>\n",
       "      <td></td>\n",
       "    </tr>\n",
       "  </tbody>\n",
       "</table>\n",
       "</div>"
      ],
      "text/plain": [
       "   count      ID flags  symbol                                  GeneName  \\\n",
       "0      3    1906          EDN1                              endothelin 1   \n",
       "1      8    3553          IL1B                        interleukin 1 beta   \n",
       "2      9  200734        SPRED2  sprouty related EVH1 domain containing 2   \n",
       "3     10    6696          SPP1                 secreted phosphoprotein 1   \n",
       "4     14   10451          VAV3  vav guanine nucleotide exchange factor 3   \n",
       "\n",
       "              location      type  \\\n",
       "0  Extracellular Space  cytokine   \n",
       "1  Extracellular Space  cytokine   \n",
       "2  Extracellular Space  cytokine   \n",
       "3  Extracellular Space  cytokine   \n",
       "4  Extracellular Space  cytokine   \n",
       "\n",
       "                                                drug  \n",
       "0                                                     \n",
       "1  canakinumab, gevokizumab, canakinumab/INS, gal...  \n",
       "2                                                     \n",
       "3                                                     \n",
       "4                                                     "
      ]
     },
     "execution_count": 26,
     "metadata": {},
     "output_type": "execute_result"
    }
   ],
   "source": [
    "up_df.head()"
   ]
  },
  {
   "cell_type": "code",
   "execution_count": 27,
   "metadata": {
    "collapsed": false,
    "deletable": true,
    "editable": true
   },
   "outputs": [],
   "source": [
    "up_types=up_df['type'].unique()"
   ]
  },
  {
   "cell_type": "code",
   "execution_count": 28,
   "metadata": {
    "collapsed": false,
    "deletable": true,
    "editable": true
   },
   "outputs": [
    {
     "data": {
      "text/plain": [
       "array(['cytokine', 'enzyme', 'G-protein coupled receptor', 'growth factor',\n",
       "       'ion channel', 'kinase', 'ligand-dependent nuclear receptor',\n",
       "       'other', 'peptidase', 'phosphatase', 'transcription regulator',\n",
       "       'translation regulator', 'transmembrane receptor', 'transporter'], dtype=object)"
      ]
     },
     "execution_count": 28,
     "metadata": {},
     "output_type": "execute_result"
    }
   ],
   "source": [
    "up_types"
   ]
  },
  {
   "cell_type": "code",
   "execution_count": 29,
   "metadata": {
    "collapsed": false,
    "deletable": true,
    "editable": true
   },
   "outputs": [],
   "source": [
    "up=up_df.groupby('type').agg({'count': 'sum'})"
   ]
  },
  {
   "cell_type": "code",
   "execution_count": 61,
   "metadata": {
    "collapsed": true,
    "deletable": true,
    "editable": true
   },
   "outputs": [],
   "source": [
    "percentage=up['count']/up['count'].sum()*100"
   ]
  },
  {
   "cell_type": "code",
   "execution_count": 62,
   "metadata": {
    "collapsed": false,
    "deletable": true,
    "editable": true
   },
   "outputs": [],
   "source": [
    "labels = ['{0} - {1:1.1f} %'.format(i,j) for i,j in zip(up.index.values,percentage)]"
   ]
  },
  {
   "cell_type": "code",
   "execution_count": 63,
   "metadata": {
    "collapsed": false,
    "deletable": true,
    "editable": true
   },
   "outputs": [
    {
     "data": {
      "image/png": "[encoded data removed]",
      "text/plain": [
       "<matplotlib.figure.Figure at 0x9c7d940>"
      ]
     },
     "metadata": {},
     "output_type": "display_data"
    }
   ],
   "source": [
    "fig, ax = plt.subplots()"
   ]
  },
  {
   "cell_type": "code",
   "execution_count": 64,
   "metadata": {
    "collapsed": false,
    "deletable": true,
    "editable": true
   },
   "outputs": [],
   "source": [
    "patches, texts = ax.pie(up['count'], labels=labels, labeldistance=1.2, radius=0.4)"
   ]
  },
  {
   "cell_type": "code",
   "execution_count": 65,
   "metadata": {
    "collapsed": true,
    "deletable": true,
    "editable": true
   },
   "outputs": [],
   "source": [
    "ax.axis('equal')\n",
    "ax.tick_params(labelsize=12)"
   ]
  },
  {
   "cell_type": "code",
   "execution_count": 66,
   "metadata": {
    "collapsed": false,
    "deletable": true,
    "editable": true
   },
   "outputs": [],
   "source": [
    "for t in texts:\n",
    "    t.set_size('large')"
   ]
  },
  {
   "cell_type": "code",
   "execution_count": 67,
   "metadata": {
    "collapsed": false,
    "deletable": true,
    "editable": true
   },
   "outputs": [
    {
     "data": {
      "text/plain": [
       "<matplotlib.figure.Figure at 0x13221b38>"
      ]
     },
     "metadata": {},
     "output_type": "display_data"
    }
   ],
   "source": [
    "plt.draw()"
   ]
  },
  {
   "cell_type": "code",
   "execution_count": 68,
   "metadata": {
    "collapsed": true,
    "deletable": true,
    "editable": true
   },
   "outputs": [],
   "source": [
    "plt.show()"
   ]
  },
  {
   "cell_type": "code",
   "execution_count": 69,
   "metadata": {
    "collapsed": false,
    "deletable": true,
    "editable": true
   },
   "outputs": [
    {
     "data": {
      "image/png": "[encoded data removed]",
      "text/plain": [
       "<matplotlib.figure.Figure at 0x9c7d940>"
      ]
     },
     "execution_count": 69,
     "metadata": {},
     "output_type": "execute_result"
    }
   ],
   "source": [
    "fig"
   ]
  },
  {
   "cell_type": "code",
   "execution_count": 70,
   "metadata": {
    "collapsed": false,
    "deletable": true,
    "editable": true
   },
   "outputs": [],
   "source": [
    "\n",
    "fig.set_size_inches(13, 4)\n",
    "fig.savefig('up_regulated_genes_test00.png', dpi=600 )"
   ]
  },
  {
   "cell_type": "markdown",
   "metadata": {
    "deletable": true,
    "editable": true
   },
   "source": [
    "Down"
   ]
  },
  {
   "cell_type": "code",
   "execution_count": 2,
   "metadata": {
    "collapsed": false,
    "deletable": true,
    "editable": true
   },
   "outputs": [],
   "source": [
    "dn_df=pd.read_excel('dn_gen_count_ID.xls')"
   ]
  },
  {
   "cell_type": "code",
   "execution_count": 3,
   "metadata": {
    "collapsed": false,
    "deletable": true,
    "editable": true
   },
   "outputs": [
    {
     "data": {
      "text/html": [
       "<div>\n",
       "<table border=\"1\" class=\"dataframe\">\n",
       "  <thead>\n",
       "    <tr style=\"text-align: right;\">\n",
       "      <th></th>\n",
       "      <th>Expr Intensity/RPKM/FPKM/Counts</th>\n",
       "      <th>ID</th>\n",
       "      <th>Flags</th>\n",
       "      <th>Symbol</th>\n",
       "      <th>Entrez Gene Name</th>\n",
       "      <th>Location</th>\n",
       "      <th>Type(s)</th>\n",
       "      <th>Drug(s)</th>\n",
       "    </tr>\n",
       "  </thead>\n",
       "  <tbody>\n",
       "    <tr>\n",
       "      <th>0</th>\n",
       "      <td>5</td>\n",
       "      <td>16</td>\n",
       "      <td></td>\n",
       "      <td>AARS</td>\n",
       "      <td>alanyl-tRNA synthetase</td>\n",
       "      <td>Cytoplasm</td>\n",
       "      <td>enzyme</td>\n",
       "      <td></td>\n",
       "    </tr>\n",
       "    <tr>\n",
       "      <th>1</th>\n",
       "      <td>2</td>\n",
       "      <td>10058</td>\n",
       "      <td></td>\n",
       "      <td>ABCB6</td>\n",
       "      <td>ATP binding cassette subfamily B member 6 (Lan...</td>\n",
       "      <td>Cytoplasm</td>\n",
       "      <td>transporter</td>\n",
       "      <td></td>\n",
       "    </tr>\n",
       "    <tr>\n",
       "      <th>2</th>\n",
       "      <td>2</td>\n",
       "      <td>10057</td>\n",
       "      <td></td>\n",
       "      <td>ABCC5</td>\n",
       "      <td>ATP binding cassette subfamily C member 5</td>\n",
       "      <td>Plasma Membrane</td>\n",
       "      <td>transporter</td>\n",
       "      <td></td>\n",
       "    </tr>\n",
       "    <tr>\n",
       "      <th>3</th>\n",
       "      <td>6</td>\n",
       "      <td>23</td>\n",
       "      <td></td>\n",
       "      <td>ABCF1</td>\n",
       "      <td>ATP binding cassette subfamily F member 1</td>\n",
       "      <td>Cytoplasm</td>\n",
       "      <td>transporter</td>\n",
       "      <td></td>\n",
       "    </tr>\n",
       "    <tr>\n",
       "      <th>4</th>\n",
       "      <td>14</td>\n",
       "      <td>55324</td>\n",
       "      <td></td>\n",
       "      <td>ABCF3</td>\n",
       "      <td>ATP binding cassette subfamily F member 3</td>\n",
       "      <td>Other</td>\n",
       "      <td>transporter</td>\n",
       "      <td></td>\n",
       "    </tr>\n",
       "  </tbody>\n",
       "</table>\n",
       "</div>"
      ],
      "text/plain": [
       "   Expr Intensity/RPKM/FPKM/Counts     ID Flags Symbol  \\\n",
       "0                                5     16         AARS   \n",
       "1                                2  10058        ABCB6   \n",
       "2                                2  10057        ABCC5   \n",
       "3                                6     23        ABCF1   \n",
       "4                               14  55324        ABCF3   \n",
       "\n",
       "                                    Entrez Gene Name         Location  \\\n",
       "0                             alanyl-tRNA synthetase        Cytoplasm   \n",
       "1  ATP binding cassette subfamily B member 6 (Lan...        Cytoplasm   \n",
       "2          ATP binding cassette subfamily C member 5  Plasma Membrane   \n",
       "3          ATP binding cassette subfamily F member 1        Cytoplasm   \n",
       "4          ATP binding cassette subfamily F member 3            Other   \n",
       "\n",
       "       Type(s) Drug(s)  \n",
       "0       enzyme          \n",
       "1  transporter          \n",
       "2  transporter          \n",
       "3  transporter          \n",
       "4  transporter          "
      ]
     },
     "execution_count": 3,
     "metadata": {},
     "output_type": "execute_result"
    }
   ],
   "source": [
    "dn_df.head()"
   ]
  },
  {
   "cell_type": "code",
   "execution_count": 4,
   "metadata": {
    "collapsed": true,
    "deletable": true,
    "editable": true
   },
   "outputs": [],
   "source": [
    "dn_df.columns=['count','ID', 'flags', 'symbol', 'GeneName', 'location','type', 'drug']"
   ]
  },
  {
   "cell_type": "code",
   "execution_count": 5,
   "metadata": {
    "collapsed": true,
    "deletable": true,
    "editable": true
   },
   "outputs": [],
   "source": [
    "dn_types=dn_df['type'].unique()"
   ]
  },
  {
   "cell_type": "code",
   "execution_count": 6,
   "metadata": {
    "collapsed": false,
    "deletable": true,
    "editable": true
   },
   "outputs": [
    {
     "data": {
      "text/plain": [
       "array(['enzyme', 'transporter', 'peptidase', 'other',\n",
       "       'G-protein coupled receptor', 'transcription regulator',\n",
       "       'ion channel', 'kinase', 'translation regulator',\n",
       "       'transmembrane receptor', 'phosphatase', 'cytokine',\n",
       "       'growth factor', 'ligand-dependent nuclear receptor'], dtype=object)"
      ]
     },
     "execution_count": 6,
     "metadata": {},
     "output_type": "execute_result"
    }
   ],
   "source": [
    "dn_types"
   ]
  },
  {
   "cell_type": "code",
   "execution_count": 7,
   "metadata": {
    "collapsed": true,
    "deletable": true,
    "editable": true
   },
   "outputs": [],
   "source": [
    "dn=dn_df.groupby('type').agg({'count': 'sum'})"
   ]
  },
  {
   "cell_type": "code",
   "execution_count": 8,
   "metadata": {
    "collapsed": false,
    "deletable": true,
    "editable": true
   },
   "outputs": [
    {
     "data": {
      "text/html": [
       "<div>\n",
       "<table border=\"1\" class=\"dataframe\">\n",
       "  <thead>\n",
       "    <tr style=\"text-align: right;\">\n",
       "      <th></th>\n",
       "      <th>count</th>\n",
       "    </tr>\n",
       "    <tr>\n",
       "      <th>type</th>\n",
       "      <th></th>\n",
       "    </tr>\n",
       "  </thead>\n",
       "  <tbody>\n",
       "    <tr>\n",
       "      <th>G-protein coupled receptor</th>\n",
       "      <td>39</td>\n",
       "    </tr>\n",
       "    <tr>\n",
       "      <th>cytokine</th>\n",
       "      <td>74</td>\n",
       "    </tr>\n",
       "    <tr>\n",
       "      <th>enzyme</th>\n",
       "      <td>2462</td>\n",
       "    </tr>\n",
       "    <tr>\n",
       "      <th>growth factor</th>\n",
       "      <td>47</td>\n",
       "    </tr>\n",
       "    <tr>\n",
       "      <th>ion channel</th>\n",
       "      <td>58</td>\n",
       "    </tr>\n",
       "    <tr>\n",
       "      <th>kinase</th>\n",
       "      <td>571</td>\n",
       "    </tr>\n",
       "    <tr>\n",
       "      <th>ligand-dependent nuclear receptor</th>\n",
       "      <td>83</td>\n",
       "    </tr>\n",
       "    <tr>\n",
       "      <th>other</th>\n",
       "      <td>3334</td>\n",
       "    </tr>\n",
       "    <tr>\n",
       "      <th>peptidase</th>\n",
       "      <td>279</td>\n",
       "    </tr>\n",
       "    <tr>\n",
       "      <th>phosphatase</th>\n",
       "      <td>298</td>\n",
       "    </tr>\n",
       "    <tr>\n",
       "      <th>transcription regulator</th>\n",
       "      <td>820</td>\n",
       "    </tr>\n",
       "    <tr>\n",
       "      <th>translation regulator</th>\n",
       "      <td>118</td>\n",
       "    </tr>\n",
       "    <tr>\n",
       "      <th>transmembrane receptor</th>\n",
       "      <td>136</td>\n",
       "    </tr>\n",
       "    <tr>\n",
       "      <th>transporter</th>\n",
       "      <td>1009</td>\n",
       "    </tr>\n",
       "  </tbody>\n",
       "</table>\n",
       "</div>"
      ],
      "text/plain": [
       "                                   count\n",
       "type                                    \n",
       "G-protein coupled receptor            39\n",
       "cytokine                              74\n",
       "enzyme                              2462\n",
       "growth factor                         47\n",
       "ion channel                           58\n",
       "kinase                               571\n",
       "ligand-dependent nuclear receptor     83\n",
       "other                               3334\n",
       "peptidase                            279\n",
       "phosphatase                          298\n",
       "transcription regulator              820\n",
       "translation regulator                118\n",
       "transmembrane receptor               136\n",
       "transporter                         1009"
      ]
     },
     "execution_count": 8,
     "metadata": {},
     "output_type": "execute_result"
    }
   ],
   "source": [
    "dn"
   ]
  },
  {
   "cell_type": "code",
   "execution_count": 9,
   "metadata": {
    "collapsed": true,
    "deletable": true,
    "editable": true
   },
   "outputs": [],
   "source": [
    "percentage=dn['count']/dn['count'].sum()*100"
   ]
  },
  {
   "cell_type": "code",
   "execution_count": 10,
   "metadata": {
    "collapsed": false,
    "deletable": true,
    "editable": true
   },
   "outputs": [],
   "source": [
    "labels = ['{0} - {1:1.1f} %'.format(i,j) for i,j in zip(dn.index.values,percentage)]"
   ]
  },
  {
   "cell_type": "code",
   "execution_count": 11,
   "metadata": {
    "collapsed": false,
    "deletable": true,
    "editable": true
   },
   "outputs": [
    {
     "data": {
      "text/plain": [
       "['G-protein coupled receptor - 0.4 %',\n",
       " 'cytokine - 0.8 %',\n",
       " 'enzyme - 26.4 %',\n",
       " 'growth factor - 0.5 %',\n",
       " 'ion channel - 0.6 %',\n",
       " 'kinase - 6.1 %',\n",
       " 'ligand-dependent nuclear receptor - 0.9 %',\n",
       " 'other - 35.7 %',\n",
       " 'peptidase - 3.0 %',\n",
       " 'phosphatase - 3.2 %',\n",
       " 'transcription regulator - 8.8 %',\n",
       " 'translation regulator - 1.3 %',\n",
       " 'transmembrane receptor - 1.5 %',\n",
       " 'transporter - 10.8 %']"
      ]
     },
     "execution_count": 11,
     "metadata": {},
     "output_type": "execute_result"
    }
   ],
   "source": [
    "labels"
   ]
  },
  {
   "cell_type": "code",
   "execution_count": 12,
   "metadata": {
    "collapsed": false,
    "deletable": true,
    "editable": true
   },
   "outputs": [
    {
     "data": {
      "image/png": "[encoded data removed]",
      "text/plain": [
       "<matplotlib.figure.Figure at 0x9a61b38>"
      ]
     },
     "metadata": {},
     "output_type": "display_data"
    }
   ],
   "source": [
    "fig, ax = plt.subplots()"
   ]
  },
  {
   "cell_type": "code",
   "execution_count": 13,
   "metadata": {
    "collapsed": false,
    "deletable": true,
    "editable": true
   },
   "outputs": [],
   "source": [
    "patches, texts = ax.pie(dn['count'],labels=labels, labeldistance=1.2, radius=0.4)"
   ]
  },
  {
   "cell_type": "code",
   "execution_count": 14,
   "metadata": {
    "collapsed": false,
    "deletable": true,
    "editable": true
   },
   "outputs": [
    {
     "data": {
      "text/plain": [
       "(-0.44703012878514803,\n",
       " 0.44033477416283751,\n",
       " -0.44041970239038647,\n",
       " 0.44388939220869439)"
      ]
     },
     "execution_count": 14,
     "metadata": {},
     "output_type": "execute_result"
    }
   ],
   "source": [
    "ax.axis('equal')"
   ]
  },
  {
   "cell_type": "code",
   "execution_count": 25,
   "metadata": {
    "collapsed": false,
    "deletable": true,
    "editable": true
   },
   "outputs": [],
   "source": [
    "for t in texts:\n",
    "    t.set_fontsize(14)"
   ]
  },
  {
   "cell_type": "code",
   "execution_count": 26,
   "metadata": {
    "collapsed": false,
    "deletable": true,
    "editable": true
   },
   "outputs": [
    {
     "data": {
      "text/plain": [
       "<matplotlib.figure.Figure at 0x9dafcc0>"
      ]
     },
     "metadata": {},
     "output_type": "display_data"
    }
   ],
   "source": [
    "plt.draw()"
   ]
  },
  {
   "cell_type": "code",
   "execution_count": 27,
   "metadata": {
    "collapsed": true,
    "deletable": true,
    "editable": true
   },
   "outputs": [],
   "source": [
    "plt.show()"
   ]
  },
  {
   "cell_type": "code",
   "execution_count": 28,
   "metadata": {
    "collapsed": false,
    "deletable": true,
    "editable": true
   },
   "outputs": [
    {
     "data": {
      "image/png": "[encoded data removed]",
      "text/plain": [
       "<matplotlib.figure.Figure at 0x9a61b38>"
      ]
     },
     "execution_count": 28,
     "metadata": {},
     "output_type": "execute_result"
    }
   ],
   "source": [
    "fig"
   ]
  },
  {
   "cell_type": "code",
   "execution_count": 29,
   "metadata": {
    "collapsed": true,
    "deletable": true,
    "editable": true
   },
   "outputs": [],
   "source": [
    "fig.set_size_inches(13, 5)\n",
    "fig.savefig('dn_regulated_genes_test2.png', dpi=600 )"
   ]
  },
  {
   "cell_type": "code",
   "execution_count": null,
   "metadata": {
    "collapsed": true,
    "deletable": true,
    "editable": true
   },
   "outputs": [],
   "source": []
  }
 ],
 "metadata": {
  "kernelspec": {
   "display_name": "Python 3",
   "language": "python",
   "name": "python3"
  },
  "language_info": {
   "codemirror_mode": {
    "name": "ipython",
    "version": 3
   },
   "file_extension": ".py",
   "mimetype": "text/x-python",
   "name": "python",
   "nbconvert_exporter": "python",
   "pygments_lexer": "ipython3",
   "version": "3.6.0"
  }
 },
 "nbformat": 4,
 "nbformat_minor": 2
}
