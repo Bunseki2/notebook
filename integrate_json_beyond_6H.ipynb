{
 "cells": [
  {
   "cell_type": "code",
   "execution_count": 43,
   "metadata": {
    "collapsed": true,
    "deletable": true,
    "editable": true
   },
   "outputs": [],
   "source": [
    "import pandas as pd\n",
    "\n",
    "df_data = pd.DataFrame()\n",
    "for i in range (0,24):\n",
    "    data = pd.read_json(\"all.list3.\" + str(i)+ \".json\")\n",
    "    df_data = df_data.append(data)"
   ]
  },
  {
   "cell_type": "code",
   "execution_count": 44,
   "metadata": {
    "collapsed": false,
    "deletable": true,
    "editable": true
   },
   "outputs": [],
   "source": [
    "for i in range (1,4):\n",
    "    data = pd.read_json(\"BRD-K81418486.\" +str(i) + \".json\")\n",
    "    df_data = df_data.append(data)"
   ]
  },
  {
   "cell_type": "code",
   "execution_count": 45,
   "metadata": {
    "collapsed": false,
    "deletable": true,
    "editable": true
   },
   "outputs": [],
   "source": [
    "#pertuniq=df_data.pert_id.unique()\n",
    "#len(pertuniq)"
   ]
  },
  {
   "cell_type": "code",
   "execution_count": 46,
   "metadata": {
    "collapsed": false,
    "deletable": true,
    "editable": true
   },
   "outputs": [],
   "source": [
    "#df_data.to_csv(\"all.list3.BRD.siginf.csv\")"
   ]
  },
  {
   "cell_type": "code",
   "execution_count": 47,
   "metadata": {
    "collapsed": true,
    "deletable": true,
    "editable": true
   },
   "outputs": [],
   "source": [
    "data2 = pd.read_csv(\"lm_geneid_prid.all.nonredun.1to1.txt\", header=None,delim_whitespace=True)\n",
    "\n",
    "data2 = data2.rename(columns = {\n",
    "\n",
    "    0:'geneid',\n",
    "    1:'prid',\n",
    "})\n",
    "\n",
    "data2_dict = data2.set_index('prid')['geneid'].to_dict()"
   ]
  },
  {
   "cell_type": "code",
   "execution_count": 52,
   "metadata": {
    "collapsed": true
   },
   "outputs": [],
   "source": [
    "HEPG2_10=df_data[(df_data.cell_id==\"HEPG2\") & (df_data.pert_idose==\"10 ÂµM\") & (df_data.pert_itime==\"6 h\")]"
   ]
  },
  {
   "cell_type": "code",
   "execution_count": 48,
   "metadata": {
    "collapsed": true
   },
   "outputs": [],
   "source": [
    "pertuniq=HEPG2_10.pert_id.unique()\n",
    "\n",
    "df_up = pd.DataFrame()\n",
    "df_dn = pd.DataFrame()\n",
    "\n",
    "for i in range(0, len(pertuniq)): \n",
    "    HEPG2_10_pert=HEPG2_10[HEPG2_10.pert_id==pertuniq[i]]\n",
    "\n",
    "    if len(HEPG2_10.distil_cc_q75) > 1:\n",
    "        HEPG2_10_pert_q75=HEPG2_10_pert.distil_cc_q75.max() \n",
    "        HEPG2_10_pert_q75=HEPG2_10_pert[HEPG2_10_pert.distil_cc_q75==HEPG2_10_pert_q75]\n",
    "        if len(HEPG2_10_pert_q75.distil_ss) > 1:\n",
    "            HEPG2_10_pert_ss=HEPG2_10_pert_q75.distil_ss.max() \n",
    "            HEPG2_10_pert_best=HEPG2_10_pert_q75[HEPG2_10_pert_q75.distil_ss==HEPG2_10_pert_ss]\n",
    "        elif len(HEPG2_10_pert_q75.distil_ss) == 1:\n",
    "            HEPG2_10_pert_best=HEPG2_10_pert_q75\n",
    "        else:\n",
    "            print('something wrong!')\n",
    "    elif len(HEPG2_10_pert.distil_cc_q75) == 1:\n",
    "        HEPG2_10_pert_best=HEPG2_10_pert\n",
    "    else:\n",
    "        print('something wrong!')\n",
    "\n",
    "    ngenes_dn=HEPG2_10_pert_best.ngenes_modulated_dn_lm.values[0]\n",
    "    ngenes_up=HEPG2_10_pert_best.ngenes_modulated_up_lm.values[0]-1\n",
    "\n",
    "    up_lm50_n=HEPG2_10_pert_best.up50_lm.values[0][0:(ngenes_up)]\n",
    "    dn_lm50_n=HEPG2_10_pert_best.dn50_lm.values[0][-(ngenes_dn):]\n",
    "    up_lm50_n_s= pd.Series(up_lm50_n)\n",
    "    dn_lm50_n_s= pd.Series(dn_lm50_n)\n",
    "    \n",
    "    up_lm50_n_geneid = up_lm50_n_s.map(data2_dict)\n",
    "    dn_lm50_n_geneid = dn_lm50_n_s.map(data2_dict)\n",
    "    \n",
    "    up_genes = pd.DataFrame({'labels': pertuniq[i] , 'ngenes_up': up_lm50_n_geneid})\n",
    "    dn_genes = pd.DataFrame({'labels': pertuniq[i] , 'ngenes_dn': dn_lm50_n_geneid})\n",
    "    df_up=df_up.append(up_genes)\n",
    "    df_dn=df_dn.append(dn_genes)\n",
    "\n",
    "df_up.to_csv(\"HEPG2_10_6H_results_up.txt\", sep=\" \", header=False, index=False)\n",
    "df_dn.to_csv(\"HEPG2_10_6H_results_dn.txt\", sep=\" \", header=False, index=False)"
   ]
  }
 ],
 "metadata": {
  "kernelspec": {
   "display_name": "Python 3",
   "language": "python",
   "name": "python3"
  },
  "language_info": {
   "codemirror_mode": {
    "name": "ipython",
    "version": 3
   },
   "file_extension": ".py",
   "mimetype": "text/x-python",
   "name": "python",
   "nbconvert_exporter": "python",
   "pygments_lexer": "ipython3",
   "version": "3.6.0"
  }
 },
 "nbformat": 4,
 "nbformat_minor": 2
}
