{
 "cells": [
  {
   "cell_type": "code",
   "execution_count": 2,
   "metadata": {
    "collapsed": false,
    "deletable": true,
    "editable": true
   },
   "outputs": [
    {
     "name": "stdout",
     "output_type": "stream",
     "text": [
      "Automatically created module for IPython interactive environment\n"
     ]
    }
   ],
   "source": [
    "print(__doc__)"
   ]
  },
  {
   "cell_type": "code",
   "execution_count": 3,
   "metadata": {
    "collapsed": false,
    "deletable": true,
    "editable": true
   },
   "outputs": [
    {
     "data": {
      "text/html": [
       "<style>.container { width:100% !important; }</style>"
      ],
      "text/plain": [
       "<IPython.core.display.HTML object>"
      ]
     },
     "metadata": {},
     "output_type": "display_data"
    }
   ],
   "source": [
    "import pandas as pd\n",
    "import numpy as np\n",
    "#import matplotlib as plt\n",
    "from mpl_toolkits.mplot3d import Axes3D\n",
    "import matplotlib.pyplot as plt\n",
    "\n",
    "from sklearn import decomposition\n",
    "from sklearn import datasets\n",
    "\n",
    "#better coloring\n",
    "import seaborn as sns\n",
    "#sns.set()\n",
    "sns.set(context=\"paper\", font=\"monospace\")\n",
    "sns.set_context('notebook', font_scale=1.5)\n",
    "cp = sns.color_palette()\n",
    "\n",
    "from IPython.core.display import display, HTML\n",
    "display(HTML(\"<style>.container { width:100% !important; }</style>\"))\n",
    "\n",
    "%matplotlib inline"
   ]
  },
  {
   "cell_type": "code",
   "execution_count": 4,
   "metadata": {
    "collapsed": true,
    "deletable": true,
    "editable": true
   },
   "outputs": [],
   "source": [
    "df = pd.read_csv(\"C:/Users/takedatn/Documents/Synergestic/all.finalscore.08292017.noRatio.txt\", header=None, sep=\" \") "
   ]
  },
  {
   "cell_type": "code",
   "execution_count": 5,
   "metadata": {
    "collapsed": false,
    "deletable": true,
    "editable": true
   },
   "outputs": [],
   "source": [
    "df_no_minus10=df[df.loc[:,:]!=-10]"
   ]
  },
  {
   "cell_type": "code",
   "execution_count": 6,
   "metadata": {
    "collapsed": false,
    "deletable": true,
    "editable": true
   },
   "outputs": [],
   "source": [
    "df_no_minus10_bene = df_no_minus10[df_no_minus10.loc[:,33]==1.0].drop_duplicates()"
   ]
  },
  {
   "cell_type": "code",
   "execution_count": 7,
   "metadata": {
    "collapsed": true,
    "deletable": true,
    "editable": true
   },
   "outputs": [],
   "source": [
    "df_no_minus10_harm=df_no_minus10[df_no_minus10.loc[:,33]==-1.0].drop_duplicates()"
   ]
  },
  {
   "cell_type": "code",
   "execution_count": 8,
   "metadata": {
    "collapsed": true,
    "deletable": true,
    "editable": true
   },
   "outputs": [],
   "source": [
    "%xdel df "
   ]
  },
  {
   "cell_type": "code",
   "execution_count": 9,
   "metadata": {
    "collapsed": false,
    "deletable": true,
    "editable": true
   },
   "outputs": [],
   "source": [
    "df_no_minus10_noneff=df_no_minus10[df_no_minus10.loc[:,33]==0.3].drop_duplicates()"
   ]
  },
  {
   "cell_type": "code",
   "execution_count": 10,
   "metadata": {
    "collapsed": false,
    "deletable": true,
    "editable": true
   },
   "outputs": [],
   "source": [
    "df_bene_harm = pd.concat([df_no_minus10_bene,df_no_minus10_harm])"
   ]
  },
  {
   "cell_type": "code",
   "execution_count": 11,
   "metadata": {
    "collapsed": false,
    "deletable": true,
    "editable": true
   },
   "outputs": [],
   "source": [
    "X = df_bene_harm.loc[:,:].dropna()"
   ]
  },
  {
   "cell_type": "code",
   "execution_count": 12,
   "metadata": {
    "collapsed": false,
    "deletable": true,
    "editable": true
   },
   "outputs": [
    {
     "name": "stdout",
     "output_type": "stream",
     "text": [
      "<class 'pandas.core.frame.DataFrame'>\n",
      "Int64Index: 551 entries, 43872 to 5077394\n",
      "Data columns (total 34 columns):\n",
      "0     551 non-null object\n",
      "1     551 non-null object\n",
      "2     551 non-null float64\n",
      "3     551 non-null float64\n",
      "4     551 non-null float64\n",
      "5     551 non-null float64\n",
      "6     551 non-null float64\n",
      "7     551 non-null float64\n",
      "8     551 non-null float64\n",
      "9     551 non-null float64\n",
      "10    551 non-null float64\n",
      "11    551 non-null float64\n",
      "12    551 non-null float64\n",
      "13    551 non-null float64\n",
      "14    551 non-null float64\n",
      "15    551 non-null float64\n",
      "16    551 non-null float64\n",
      "17    551 non-null float64\n",
      "18    551 non-null float64\n",
      "19    551 non-null float64\n",
      "20    551 non-null float64\n",
      "21    551 non-null float64\n",
      "22    551 non-null float64\n",
      "23    551 non-null float64\n",
      "24    551 non-null float64\n",
      "25    551 non-null float64\n",
      "26    551 non-null float64\n",
      "27    551 non-null float64\n",
      "28    551 non-null float64\n",
      "29    551 non-null float64\n",
      "30    551 non-null float64\n",
      "31    551 non-null float64\n",
      "32    551 non-null float64\n",
      "33    551 non-null float64\n",
      "dtypes: float64(32), object(2)\n",
      "memory usage: 150.7+ KB\n"
     ]
    }
   ],
   "source": [
    "X.info()"
   ]
  },
  {
   "cell_type": "code",
   "execution_count": 13,
   "metadata": {
    "collapsed": false,
    "deletable": true,
    "editable": true
   },
   "outputs": [],
   "source": [
    "X.columns=['Dq','De','Sd','Se','Str','Seg','Strg','Sta','Stag','Sta_up','Sta_dn','Sup_up','Sdn_up','Sdn_dn','Sup_dn','Sta_tfuk_dn','Sta_tfuk_up','Sta_tfref_dn','Sta_tfref_up','Sta_tfact_dn','Sta_tfact_up','Sup_tfuk_dn','Sdn_tfuk_dn','Sup_tfuk_up','Sdn_tfuk_up','Sup_tfrep_dn','Sdn_tfrep_dn','Sup_tfrep_up','Sdn_tfrep_up','Sup_tfact_dn','Sdn_tfact_dn','Sup_tfact_up','Sdn_tfact_up','TrueOrFalse']"
   ]
  },
  {
   "cell_type": "code",
   "execution_count": 14,
   "metadata": {
    "collapsed": false,
    "deletable": true,
    "editable": true
   },
   "outputs": [],
   "source": [
    "corrmat = X.loc[:,['Sd','Se','Str','Seg','Strg','Sta','Stag','Sta_up','Sta_dn','Sup_up','Sdn_up','Sdn_dn','Sup_dn','Sta_tfuk_dn','Sta_tfuk_up','Sta_tfref_dn','Sta_tfref_up','Sta_tfact_dn','Sta_tfact_up','Sup_tfuk_dn','Sdn_tfuk_dn','Sup_tfuk_up','Sdn_tfuk_up','Sup_tfrep_dn','Sdn_tfrep_dn','Sup_tfrep_up','Sdn_tfrep_up','Sup_tfact_dn','Sdn_tfact_dn','Sup_tfact_up','Sdn_tfact_up']].corr()"
   ]
  },
  {
   "cell_type": "code",
   "execution_count": 19,
   "metadata": {
    "collapsed": true
   },
   "outputs": [],
   "source": [
    "dfc=X.loc[:,['Sd','Se','Str','Seg','Strg','Sta','Stag','Sta_up','Sta_dn','Sup_up','Sdn_up','Sdn_dn','Sup_dn','Sta_tfuk_dn','Sta_tfuk_up','Sta_tfref_dn','Sta_tfref_up','Sta_tfact_dn','Sta_tfact_up','Sup_tfuk_dn','Sdn_tfuk_dn','Sup_tfuk_up','Sdn_tfuk_up','Sup_tfrep_dn','Sdn_tfrep_dn','Sup_tfrep_up','Sdn_tfrep_up','Sup_tfact_dn','Sdn_tfact_dn','Sup_tfact_up','Sdn_tfact_up']]"
   ]
  },
  {
   "cell_type": "code",
   "execution_count": 24,
   "metadata": {
    "collapsed": true
   },
   "outputs": [],
   "source": [
    "import scipy.stats  as stats"
   ]
  },
  {
   "cell_type": "code",
   "execution_count": 25,
   "metadata": {
    "collapsed": true
   },
   "outputs": [],
   "source": [
    "from scipy.stats import pearsonr\n",
    "import pandas as pd\n",
    "\n",
    "def calculate_pvalues(df):\n",
    "    df = df.dropna()._get_numeric_data()\n",
    "    dfcols = pd.DataFrame(columns=df.columns)\n",
    "    pvalues = dfcols.transpose().join(dfcols, how='outer')\n",
    "    for r in df.columns:\n",
    "        for c in df.columns:\n",
    "            pvalues[r][c] = round(pearsonr(df[r], df[c])[1], 4)\n",
    "    return pvalues"
   ]
  },
  {
   "cell_type": "code",
   "execution_count": 32,
   "metadata": {
    "collapsed": false
   },
   "outputs": [],
   "source": [
    "dfd=calculate_pvalues(dfc)"
   ]
  },
  {
   "cell_type": "code",
   "execution_count": 45,
   "metadata": {
    "collapsed": false
   },
   "outputs": [
    {
     "name": "stdout",
     "output_type": "stream",
     "text": [
      "<class 'pandas.core.frame.DataFrame'>\n",
      "Index: 31 entries, Sd to Sdn_tfact_up\n",
      "Data columns (total 31 columns):\n",
      "Sd              0 non-null object\n",
      "Se              0 non-null object\n",
      "Str             0 non-null object\n",
      "Seg             0 non-null object\n",
      "Strg            0 non-null object\n",
      "Sta             0 non-null object\n",
      "Stag            0 non-null object\n",
      "Sta_up          0 non-null object\n",
      "Sta_dn          1 non-null object\n",
      "Sup_up          0 non-null object\n",
      "Sdn_up          0 non-null object\n",
      "Sdn_dn          0 non-null object\n",
      "Sup_dn          0 non-null object\n",
      "Sta_tfuk_dn     0 non-null object\n",
      "Sta_tfuk_up     0 non-null object\n",
      "Sta_tfref_dn    0 non-null object\n",
      "Sta_tfref_up    0 non-null object\n",
      "Sta_tfact_dn    0 non-null object\n",
      "Sta_tfact_up    0 non-null object\n",
      "Sup_tfuk_dn     0 non-null object\n",
      "Sdn_tfuk_dn     0 non-null object\n",
      "Sup_tfuk_up     0 non-null object\n",
      "Sdn_tfuk_up     0 non-null object\n",
      "Sup_tfrep_dn    0 non-null object\n",
      "Sdn_tfrep_dn    0 non-null object\n",
      "Sup_tfrep_up    0 non-null object\n",
      "Sdn_tfrep_up    1 non-null object\n",
      "Sup_tfact_dn    0 non-null object\n",
      "Sdn_tfact_dn    0 non-null object\n",
      "Sup_tfact_up    0 non-null object\n",
      "Sdn_tfact_up    0 non-null object\n",
      "dtypes: object(31)\n",
      "memory usage: 7.8+ KB\n"
     ]
    }
   ],
   "source": [
    "dfd[dfd > 0.01].info()"
   ]
  },
  {
   "cell_type": "code",
   "execution_count": null,
   "metadata": {
    "collapsed": false,
    "deletable": true,
    "editable": true
   },
   "outputs": [],
   "source": [
    "f, ax = plt.subplots(figsize=(16, 16))\n",
    "# Draw the heatmap using seaborn\n",
    "sns.heatmap(corrmat, vmin=0.0, vmax=1.0, square=True)\n",
    "plt.savefig(\"cor_heatmap.png\")"
   ]
  },
  {
   "cell_type": "code",
   "execution_count": null,
   "metadata": {
    "collapsed": true
   },
   "outputs": [],
   "source": []
  },
  {
   "cell_type": "code",
   "execution_count": null,
   "metadata": {
    "collapsed": true,
    "deletable": true,
    "editable": true
   },
   "outputs": [],
   "source": [
    "i = sns.pairplot(X.iloc[:,2:34], hue='TrueOrFalse')"
   ]
  },
  {
   "cell_type": "code",
   "execution_count": null,
   "metadata": {
    "collapsed": true,
    "deletable": true,
    "editable": true
   },
   "outputs": [],
   "source": [
    "Y=df_no_minus10_noneff.loc[:,:].dropna()\n"
   ]
  },
  {
   "cell_type": "code",
   "execution_count": null,
   "metadata": {
    "collapsed": true,
    "deletable": true,
    "editable": true
   },
   "outputs": [],
   "source": [
    "Y.columns=['Dq','De','Sd','Se','Str','Seg','Strg','Sta','Stag','Sta_up','Sta_dn','Sup_up','Sdn_up','Sdn_dn','Sup_dn','Sta_tfuk_dn','Sta_tfuk_up','Sta_tfref_dn','Sta_tfref_up','Sta_tfact_dn','Sta_tfact_up','Sup_tfuk_dn','Sdn_tfuk_dn','Sup_tfuk_up','Sdn_tfuk_up','Sup_tfrep_dn','Sdn_tfrep_dn','Sup_tfrep_up','Sdn_tfrep_up','Sup_tfact_dn','Sdn_tfact_dn','Sup_tfact_up','Sdn_tfact_up','TrueOrFalse']"
   ]
  },
  {
   "cell_type": "code",
   "execution_count": null,
   "metadata": {
    "collapsed": true,
    "deletable": true,
    "editable": true
   },
   "outputs": [],
   "source": [
    "corrmat = Y.loc[:,['Sd','Se','Str','Seg','Strg','Sta','Stag','Sta_up','Sta_dn','Sup_up','Sdn_up','Sdn_dn','Sup_dn','Sta_tfuk_dn','Sta_tfuk_up','Sta_tfref_dn','Sta_tfref_up','Sta_tfact_dn','Sta_tfact_up','Sup_tfuk_dn','Sdn_tfuk_dn','Sup_tfuk_up','Sdn_tfuk_up','Sup_tfrep_dn','Sdn_tfrep_dn','Sup_tfrep_up','Sdn_tfrep_up','Sup_tfact_dn','Sdn_tfact_dn','Sup_tfact_up','Sdn_tfact_up']].corr()"
   ]
  },
  {
   "cell_type": "code",
   "execution_count": null,
   "metadata": {
    "collapsed": false,
    "deletable": true,
    "editable": true
   },
   "outputs": [],
   "source": [
    "f, ax = plt.subplots(figsize=(16, 16))\n",
    "# Draw the heatmap using seaborn\n",
    "sns.heatmap(corrmat, vmin=0.0, vmax=1.0, square=True)\n",
    "plt.savefig(\"cor_heatmap_nonDDI.png\")"
   ]
  },
  {
   "cell_type": "code",
   "execution_count": null,
   "metadata": {
    "collapsed": false,
    "deletable": true,
    "editable": true
   },
   "outputs": [],
   "source": [
    "X_bene= X[X['n']==1.0]"
   ]
  },
  {
   "cell_type": "code",
   "execution_count": null,
   "metadata": {
    "collapsed": false,
    "deletable": true,
    "editable": true
   },
   "outputs": [],
   "source": [
    "X_bene"
   ]
  },
  {
   "cell_type": "code",
   "execution_count": null,
   "metadata": {
    "collapsed": false,
    "deletable": true,
    "editable": true
   },
   "outputs": [],
   "source": [
    "h = sns.pairplot(X_bene.iloc[:,0:14], hue='n')"
   ]
  },
  {
   "cell_type": "code",
   "execution_count": null,
   "metadata": {
    "collapsed": true,
    "deletable": true,
    "editable": true
   },
   "outputs": [],
   "source": [
    "corrmat"
   ]
  },
  {
   "cell_type": "code",
   "execution_count": null,
   "metadata": {
    "collapsed": false,
    "deletable": true,
    "editable": true
   },
   "outputs": [],
   "source": [
    "f, ax = plt.subplots(figsize=(9, 6))\n",
    "# Draw the heatmap using seaborn\n",
    "sns.heatmap(corrmat, vmin=-1.0, vmax=1.0, square=True)\n",
    "plt.savefig(\"cor_heatmap_bene.png\")"
   ]
  },
  {
   "cell_type": "code",
   "execution_count": null,
   "metadata": {
    "collapsed": false,
    "deletable": true,
    "editable": true
   },
   "outputs": [],
   "source": [
    "X_harm= X[X['64']==-1.0]"
   ]
  },
  {
   "cell_type": "code",
   "execution_count": null,
   "metadata": {
    "collapsed": false,
    "deletable": true,
    "editable": true
   },
   "outputs": [],
   "source": [
    "df_max_no_minus10_harm=df_max_no_minus10[df_max_no_minus10.loc[:,64]==-1.0]"
   ]
  },
  {
   "cell_type": "code",
   "execution_count": null,
   "metadata": {
    "collapsed": false,
    "deletable": true,
    "editable": true
   },
   "outputs": [],
   "source": [
    "i = sns.pairplot(X_harm.iloc[:,0:14], hue='n')"
   ]
  },
  {
   "cell_type": "code",
   "execution_count": null,
   "metadata": {
    "collapsed": true,
    "deletable": true,
    "editable": true
   },
   "outputs": [],
   "source": [
    "df_max_no_minus10_harm.loc[:,2:3].boxplot()"
   ]
  },
  {
   "cell_type": "code",
   "execution_count": null,
   "metadata": {
    "collapsed": true,
    "deletable": true,
    "editable": true
   },
   "outputs": [],
   "source": [
    "df_max_no_minus10_harm.loc[:,2:14].describe()"
   ]
  },
  {
   "cell_type": "code",
   "execution_count": null,
   "metadata": {
    "collapsed": true,
    "deletable": true,
    "editable": true
   },
   "outputs": [],
   "source": [
    "corrmat = df_max_no_minus10_harm.loc[:,[2,3,5,4,6,7,8,9,10,11,13,12,14,15,16,17,18,19,20,21,22,23,24,25,26,27,28,29,30,31,32]].corr()"
   ]
  },
  {
   "cell_type": "code",
   "execution_count": null,
   "metadata": {
    "collapsed": false,
    "deletable": true,
    "editable": true
   },
   "outputs": [],
   "source": [
    "corrmat"
   ]
  },
  {
   "cell_type": "code",
   "execution_count": null,
   "metadata": {
    "collapsed": false,
    "deletable": true,
    "editable": true
   },
   "outputs": [],
   "source": [
    "corrmat.loc[18,20]"
   ]
  },
  {
   "cell_type": "code",
   "execution_count": null,
   "metadata": {
    "collapsed": false,
    "deletable": true,
    "editable": true
   },
   "outputs": [],
   "source": [
    "corrmat.loc[16,20]"
   ]
  },
  {
   "cell_type": "code",
   "execution_count": null,
   "metadata": {
    "collapsed": false,
    "deletable": true,
    "editable": true
   },
   "outputs": [],
   "source": [
    "corrmat.loc[24,32]"
   ]
  },
  {
   "cell_type": "code",
   "execution_count": null,
   "metadata": {
    "collapsed": false,
    "deletable": true,
    "editable": true
   },
   "outputs": [],
   "source": [
    "corrmat.loc[23,31]\n",
    "#corrmat.loc[22,30]"
   ]
  },
  {
   "cell_type": "code",
   "execution_count": null,
   "metadata": {
    "collapsed": false,
    "deletable": true,
    "editable": true
   },
   "outputs": [],
   "source": [
    "corrmat.loc[11,13]"
   ]
  },
  {
   "cell_type": "code",
   "execution_count": null,
   "metadata": {
    "collapsed": false,
    "deletable": true,
    "editable": true
   },
   "outputs": [],
   "source": [
    "corrmat.loc[27,31]"
   ]
  },
  {
   "cell_type": "code",
   "execution_count": null,
   "metadata": {
    "collapsed": false,
    "deletable": true,
    "editable": true
   },
   "outputs": [],
   "source": [
    "corrmat.loc[21,25]"
   ]
  },
  {
   "cell_type": "code",
   "execution_count": null,
   "metadata": {
    "collapsed": false,
    "deletable": true,
    "editable": true
   },
   "outputs": [],
   "source": [
    "f, ax = plt.subplots(figsize=(16, 12))\n",
    "# Draw the heatmap using seaborn\n",
    "sns.heatmap(corrmat, vmin=-1.0, vmax=1.0, square=True)\n",
    "plt.savefig(\"cor_heatmap_harm_08252017.png\")"
   ]
  },
  {
   "cell_type": "code",
   "execution_count": null,
   "metadata": {
    "collapsed": true,
    "deletable": true,
    "editable": true
   },
   "outputs": [],
   "source": [
    "corrmat2 = df_max_no_minus10_harm.loc[:,[2,5,4,7,8,9,10,11,13,12,14,15,17,18,19,21,22,23,24,28,29,31]].corr()"
   ]
  },
  {
   "cell_type": "code",
   "execution_count": null,
   "metadata": {
    "collapsed": false,
    "deletable": true,
    "editable": true
   },
   "outputs": [],
   "source": [
    "f, ax = plt.subplots(figsize=(16, 12))\n",
    "# Draw the heatmap using seaborn\n",
    "sns.heatmap(corrmat2, vmin=0.0, vmax=1.0, square=True)"
   ]
  },
  {
   "cell_type": "code",
   "execution_count": null,
   "metadata": {
    "collapsed": false,
    "deletable": true,
    "editable": true
   },
   "outputs": [],
   "source": [
    "corrmat2"
   ]
  },
  {
   "cell_type": "code",
   "execution_count": null,
   "metadata": {
    "collapsed": true,
    "deletable": true,
    "editable": true
   },
   "outputs": [],
   "source": [
    "df_max_no_minus10_noneff=df_max_no_minus10[df_max_no_minus10.loc[:,64]==0.3]"
   ]
  },
  {
   "cell_type": "code",
   "execution_count": null,
   "metadata": {
    "collapsed": true,
    "deletable": true,
    "editable": true
   },
   "outputs": [],
   "source": [
    "df_max_no_minus10_noneff.loc[:,2:14].describe()"
   ]
  },
  {
   "cell_type": "code",
   "execution_count": null,
   "metadata": {
    "collapsed": true,
    "deletable": true,
    "editable": true
   },
   "outputs": [],
   "source": [
    "df_max_no_minus10_noneff.loc[:,2:14].boxplot()"
   ]
  },
  {
   "cell_type": "code",
   "execution_count": null,
   "metadata": {
    "collapsed": false,
    "deletable": true,
    "editable": true
   },
   "outputs": [],
   "source": [
    "corrmat = df_max_no_minus10_noneff.loc[:,[2,3,5,4,6,7,8,9,10,11,13,12,14]].corr()"
   ]
  },
  {
   "cell_type": "code",
   "execution_count": null,
   "metadata": {
    "collapsed": false,
    "deletable": true,
    "editable": true
   },
   "outputs": [],
   "source": [
    "f, ax = plt.subplots(figsize=(9, 6))\n",
    "# Draw the heatmap using seaborn\n",
    "sns.heatmap(corrmat, vmin=-1.0, vmax=1.0, square=True)\n",
    "plt.savefig(\"cor_heatmap_noneff.png\")"
   ]
  },
  {
   "cell_type": "code",
   "execution_count": null,
   "metadata": {
    "collapsed": false,
    "deletable": true,
    "editable": true
   },
   "outputs": [],
   "source": [
    "df_max_summary = pd.DataFrame()\n",
    "for i in list(range(2,32)):\n",
    "        df_max_summary = pd.concat([df_max_summary,df_max_no_minus10_bene[i],df_max_no_minus10_noneff[i], df_max_no_minus10_harm[i]], axis=1 )"
   ]
  },
  {
   "cell_type": "code",
   "execution_count": null,
   "metadata": {
    "collapsed": false,
    "deletable": true,
    "editable": true
   },
   "outputs": [],
   "source": [
    "df_max_summary.head()"
   ]
  },
  {
   "cell_type": "code",
   "execution_count": null,
   "metadata": {
    "collapsed": false,
    "deletable": true,
    "editable": true,
    "scrolled": true
   },
   "outputs": [],
   "source": [
    "df_max_summary.boxplot()\n",
    "plt.savefig(\"df_max_summary_boxplot.07312017.png\")"
   ]
  },
  {
   "cell_type": "code",
   "execution_count": null,
   "metadata": {
    "collapsed": false,
    "deletable": true,
    "editable": true
   },
   "outputs": [],
   "source": [
    "plt.figure(1,figsize=(12, 24) )\n",
    "\n",
    "for i in list(range(2,15)):   \n",
    "    plt.subplot(14,1,i-1)\n",
    "    plt.axis([0, 1.0, 0, 20])\n",
    "    df_max_no_minus10_bene[i].hist(bins=50)"
   ]
  },
  {
   "cell_type": "code",
   "execution_count": null,
   "metadata": {
    "collapsed": false,
    "deletable": true,
    "editable": true
   },
   "outputs": [],
   "source": [
    "plt.figure(1,figsize=(12, 24) )\n",
    "\n",
    "for i in list(range(2,15)):   \n",
    "    plt.subplot(14,1,i-1)\n",
    "    plt.axis([0, 1.0, 0, 800])\n",
    "    df_max_no_minus10_harm[i].hist(bins=50)"
   ]
  },
  {
   "cell_type": "code",
   "execution_count": null,
   "metadata": {
    "collapsed": false,
    "deletable": true,
    "editable": true
   },
   "outputs": [],
   "source": [
    "plt.figure(1,figsize=(12, 24) )\n",
    "\n",
    "for i in list(range(2,15)):   \n",
    "    plt.subplot(14,1,i-1)\n",
    "    plt.axis([0, 1.0, 0, 300000])\n",
    "    df_max_no_minus10_noneff[i].hist(bins=50)"
   ]
  },
  {
   "cell_type": "code",
   "execution_count": null,
   "metadata": {
    "collapsed": true,
    "deletable": true,
    "editable": true
   },
   "outputs": [],
   "source": [
    "from __future__ import print_function\n",
    "\n",
    "import numpy as np\n",
    "from scipy.stats import ttest_ind, ttest_ind_from_stats\n",
    "from scipy.special import stdtr\n",
    "\n",
    "np.random.seed(1)\n"
   ]
  },
  {
   "cell_type": "code",
   "execution_count": null,
   "metadata": {
    "collapsed": false,
    "deletable": true,
    "editable": true
   },
   "outputs": [],
   "source": [
    "for i in list(range(2,15)):\n",
    "    t, p = ttest_ind(df_max_no_minus10_harm[i].dropna(), df_max_no_minus10_bene[i].dropna(), equal_var=False)\n",
    "    print(\"ttest_ind:            t = %g  p = %g\" % (t, p))"
   ]
  },
  {
   "cell_type": "code",
   "execution_count": null,
   "metadata": {
    "collapsed": false,
    "deletable": true,
    "editable": true
   },
   "outputs": [],
   "source": [
    "for i in list(range(2,15)):\n",
    "    t, p = ttest_ind(df_max_no_minus10_bene[i].dropna(), df_max_no_minus10_noneff[i].dropna(), equal_var=False)\n",
    "    print(\"ttest_ind:            t = %g  p = %g\" % (t, p))"
   ]
  },
  {
   "cell_type": "code",
   "execution_count": null,
   "metadata": {
    "collapsed": false,
    "deletable": true,
    "editable": true
   },
   "outputs": [],
   "source": [
    "for i in list(range(2,15)):\n",
    "    t, p = ttest_ind(df_max_no_minus10_harm[i].dropna(), df_max_no_minus10_noneff[i].dropna(), equal_var=False)\n",
    "    print(\"ttest_ind:            t = %g  p = %g\" % (t, p))"
   ]
  },
  {
   "cell_type": "code",
   "execution_count": null,
   "metadata": {
    "collapsed": false,
    "deletable": true,
    "editable": true
   },
   "outputs": [],
   "source": [
    "df_max_no_minus10_harm.dropna(axis=1, how='all').info()"
   ]
  },
  {
   "cell_type": "code",
   "execution_count": null,
   "metadata": {
    "collapsed": false,
    "deletable": true,
    "editable": true
   },
   "outputs": [],
   "source": [
    "df_max_no_minus10_bene.dropna(axis=1, how='all').info()"
   ]
  },
  {
   "cell_type": "code",
   "execution_count": null,
   "metadata": {
    "collapsed": false,
    "deletable": true,
    "editable": true
   },
   "outputs": [],
   "source": [
    "df_max_no_minus10_noneff.dropna(axis=1, how='all').info()"
   ]
  },
  {
   "cell_type": "code",
   "execution_count": null,
   "metadata": {
    "collapsed": true,
    "deletable": true,
    "editable": true
   },
   "outputs": [],
   "source": [
    "ddi_positive = df_max[df_max.loc[:,54]==-1.0]"
   ]
  },
  {
   "cell_type": "code",
   "execution_count": null,
   "metadata": {
    "collapsed": true,
    "deletable": true,
    "editable": true
   },
   "outputs": [],
   "source": [
    "def some(x, n):\n",
    "    return x.ix[np.random.choice(x.index, n)]"
   ]
  },
  {
   "cell_type": "code",
   "execution_count": null,
   "metadata": {
    "collapsed": false,
    "deletable": true,
    "editable": true
   },
   "outputs": [],
   "source": [
    "n =  len(ddi_positive.index)\n",
    "n"
   ]
  },
  {
   "cell_type": "code",
   "execution_count": null,
   "metadata": {
    "collapsed": false,
    "deletable": true,
    "editable": true
   },
   "outputs": [],
   "source": [
    "ddi_negative = df_max[df_max.loc[:,54]== 0.3]"
   ]
  },
  {
   "cell_type": "code",
   "execution_count": null,
   "metadata": {
    "collapsed": false,
    "deletable": true,
    "editable": true
   },
   "outputs": [],
   "source": [
    "ddi_negative_sample = some(ddi_negative,n)\n",
    "len(ddi_negative_sample)"
   ]
  },
  {
   "cell_type": "code",
   "execution_count": null,
   "metadata": {
    "collapsed": false,
    "deletable": true,
    "editable": true
   },
   "outputs": [],
   "source": [
    "sample = pd.concat([ddi_positive, ddi_negative_sample], axis = 0)\n",
    "len(sample)"
   ]
  },
  {
   "cell_type": "code",
   "execution_count": null,
   "metadata": {
    "collapsed": true,
    "deletable": true,
    "editable": true
   },
   "outputs": [],
   "source": [
    "from sklearn.model_selection import StratifiedKFold"
   ]
  },
  {
   "cell_type": "code",
   "execution_count": null,
   "metadata": {
    "collapsed": false,
    "deletable": true,
    "editable": true
   },
   "outputs": [],
   "source": [
    "X = sample.loc[:, 2:14]"
   ]
  },
  {
   "cell_type": "code",
   "execution_count": null,
   "metadata": {
    "collapsed": false,
    "deletable": true,
    "editable": true
   },
   "outputs": [],
   "source": [
    "X.head()"
   ]
  },
  {
   "cell_type": "code",
   "execution_count": null,
   "metadata": {
    "collapsed": false,
    "deletable": true,
    "editable": true
   },
   "outputs": [],
   "source": [
    "len(X)"
   ]
  },
  {
   "cell_type": "code",
   "execution_count": null,
   "metadata": {
    "collapsed": true,
    "deletable": true,
    "editable": true
   },
   "outputs": [],
   "source": [
    "y=sample[54]"
   ]
  },
  {
   "cell_type": "code",
   "execution_count": null,
   "metadata": {
    "collapsed": false,
    "deletable": true,
    "editable": true
   },
   "outputs": [],
   "source": [
    "len(y)"
   ]
  },
  {
   "cell_type": "code",
   "execution_count": null,
   "metadata": {
    "collapsed": true,
    "deletable": true,
    "editable": true
   },
   "outputs": [],
   "source": [
    "skf = StratifiedKFold(n_splits=10)"
   ]
  },
  {
   "cell_type": "code",
   "execution_count": null,
   "metadata": {
    "collapsed": true,
    "deletable": true,
    "editable": true
   },
   "outputs": [],
   "source": [
    "clf = SVR(C=1.0, epsilon=0.2)"
   ]
  },
  {
   "cell_type": "code",
   "execution_count": null,
   "metadata": {
    "collapsed": false,
    "deletable": true,
    "editable": true
   },
   "outputs": [],
   "source": [
    "for train, test in skf.split(X, y):\n",
    "    #print( y.iloc[train])\n",
    "    score = clf.fit(X.iloc[train], y.iloc[train]).score(X.iloc[test], y.iloc[test])\n",
    "    print(\"%s\" % score)"
   ]
  },
  {
   "cell_type": "code",
   "execution_count": null,
   "metadata": {
    "collapsed": false,
    "deletable": true,
    "editable": true
   },
   "outputs": [],
   "source": [
    "score"
   ]
  },
  {
   "cell_type": "code",
   "execution_count": null,
   "metadata": {
    "collapsed": false,
    "deletable": true,
    "editable": true
   },
   "outputs": [],
   "source": [
    "clf = SVR(C=1.0, epsilon=0.2)\n",
    "[clf.fit(X[train], y[train]).score(X[test], y[test]) for train, test in skf.split(X,y)]"
   ]
  },
  {
   "cell_type": "code",
   "execution_count": null,
   "metadata": {
    "collapsed": true,
    "deletable": true,
    "editable": true
   },
   "outputs": [],
   "source": [
    "from sklearn.model_selection import KFold, cross_val_score\n",
    "kfold = KFold(n_splits=3)\n",
    "[SVR.fit(X[train], y[train]).score(X[test], y[test])\n",
    "         for train, test in k_fold.split(X)]"
   ]
  },
  {
   "cell_type": "code",
   "execution_count": null,
   "metadata": {
    "collapsed": false,
    "deletable": true,
    "editable": true
   },
   "outputs": [],
   "source": [
    "train_index"
   ]
  },
  {
   "cell_type": "code",
   "execution_count": null,
   "metadata": {
    "collapsed": true,
    "deletable": true,
    "editable": true
   },
   "outputs": [],
   "source": [
    "from sklearn.svm import SVR\n",
    "clf = SVR(C=1.0, epsilon=0.2)"
   ]
  },
  {
   "cell_type": "code",
   "execution_count": null,
   "metadata": {
    "collapsed": false,
    "deletable": true,
    "editable": true
   },
   "outputs": [],
   "source": [
    "clf.fit(X.loc[train_index[1]], y[train_index[1]])"
   ]
  }
 ],
 "metadata": {
  "kernelspec": {
   "display_name": "Python 3",
   "language": "python",
   "name": "python3"
  },
  "language_info": {
   "codemirror_mode": {
    "name": "ipython",
    "version": 3
   },
   "file_extension": ".py",
   "mimetype": "text/x-python",
   "name": "python",
   "nbconvert_exporter": "python",
   "pygments_lexer": "ipython3",
   "version": "3.6.0"
  }
 },
 "nbformat": 4,
 "nbformat_minor": 2
}
