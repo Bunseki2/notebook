{
 "cells": [
  {
   "cell_type": "code",
   "execution_count": 1,
   "metadata": {
    "collapsed": false,
    "deletable": true,
    "editable": true
   },
   "outputs": [
    {
     "name": "stdout",
     "output_type": "stream",
     "text": [
      "Automatically created module for IPython interactive environment\n"
     ]
    }
   ],
   "source": [
    "print(__doc__)\n",
    "import pandas as pd\n",
    "import numpy as np\n",
    "\n",
    "# Code source: Gaël Varoquaux\n",
    "# License: BSD 3 clause\n",
    "\n",
    "import numpy as np\n",
    "import matplotlib.pyplot as plt\n",
    "from mpl_toolkits.mplot3d import Axes3D\n",
    "\n",
    "\n",
    "from sklearn import decomposition\n",
    "from sklearn import datasets\n",
    "\n",
    "np.random.seed(5)"
   ]
  },
  {
   "cell_type": "code",
   "execution_count": 2,
   "metadata": {
    "collapsed": true,
    "deletable": true,
    "editable": true
   },
   "outputs": [],
   "source": [
    "centers = [[1, 1], [-1, -1], [1, -1]]"
   ]
  },
  {
   "cell_type": "code",
   "execution_count": 3,
   "metadata": {
    "collapsed": false,
    "deletable": true,
    "editable": true
   },
   "outputs": [],
   "source": [
    "df = pd.read_csv(\"C:/Users/takedatn/Documents/Synergestic/final_scores.DB00006.PC03.6H10M.ngene.Target.UpDndrug.ave_num.test.06122017.csv\", header=None) "
   ]
  },
  {
   "cell_type": "code",
   "execution_count": 4,
   "metadata": {
    "collapsed": true,
    "deletable": true,
    "editable": true
   },
   "outputs": [],
   "source": [
    "fig = plt.figure(1, figsize=(4, 3))"
   ]
  },
  {
   "cell_type": "code",
   "execution_count": 5,
   "metadata": {
    "collapsed": true,
    "deletable": true,
    "editable": true
   },
   "outputs": [],
   "source": [
    "plt.clf()"
   ]
  },
  {
   "cell_type": "code",
   "execution_count": 6,
   "metadata": {
    "collapsed": true,
    "deletable": true,
    "editable": true
   },
   "outputs": [],
   "source": [
    "ax = Axes3D(fig, rect=[0, 0, .95, 1], elev=48, azim=134)"
   ]
  },
  {
   "cell_type": "code",
   "execution_count": 7,
   "metadata": {
    "collapsed": true,
    "deletable": true,
    "editable": true
   },
   "outputs": [],
   "source": [
    "plt.cla()"
   ]
  },
  {
   "cell_type": "code",
   "execution_count": 8,
   "metadata": {
    "collapsed": true,
    "deletable": true,
    "editable": true
   },
   "outputs": [],
   "source": [
    "pca = decomposition.PCA(n_components=13)"
   ]
  },
  {
   "cell_type": "code",
   "execution_count": 9,
   "metadata": {
    "collapsed": true,
    "deletable": true,
    "editable": true
   },
   "outputs": [],
   "source": [
    "df_no_minus=df[df.loc[:,2:14]!=-10]"
   ]
  },
  {
   "cell_type": "code",
   "execution_count": 10,
   "metadata": {
    "collapsed": true,
    "deletable": true,
    "editable": true
   },
   "outputs": [],
   "source": [
    "X=df_no_minus.loc[:,2:14]"
   ]
  },
  {
   "cell_type": "code",
   "execution_count": 11,
   "metadata": {
    "collapsed": true,
    "deletable": true,
    "editable": true
   },
   "outputs": [],
   "source": [
    "X=X.dropna()"
   ]
  },
  {
   "cell_type": "code",
   "execution_count": 12,
   "metadata": {
    "collapsed": false,
    "deletable": true,
    "editable": true
   },
   "outputs": [
    {
     "name": "stdout",
     "output_type": "stream",
     "text": [
      "<class 'pandas.core.frame.DataFrame'>\n",
      "Int64Index: 72 entries, 9 to 738\n",
      "Data columns (total 13 columns):\n",
      "2     72 non-null float64\n",
      "3     72 non-null float64\n",
      "4     72 non-null float64\n",
      "5     72 non-null float64\n",
      "6     72 non-null float64\n",
      "7     72 non-null float64\n",
      "8     72 non-null float64\n",
      "9     72 non-null float64\n",
      "10    72 non-null float64\n",
      "11    72 non-null float64\n",
      "12    72 non-null float64\n",
      "13    72 non-null float64\n",
      "14    72 non-null float64\n",
      "dtypes: float64(13)\n",
      "memory usage: 7.9 KB\n"
     ]
    }
   ],
   "source": [
    "X.info()"
   ]
  },
  {
   "cell_type": "code",
   "execution_count": 13,
   "metadata": {
    "collapsed": false,
    "deletable": true,
    "editable": true
   },
   "outputs": [
    {
     "data": {
      "text/plain": [
       "72"
      ]
     },
     "execution_count": 13,
     "metadata": {},
     "output_type": "execute_result"
    }
   ],
   "source": [
    "len(X.index)"
   ]
  },
  {
   "cell_type": "code",
   "execution_count": 12,
   "metadata": {
    "collapsed": false,
    "deletable": true,
    "editable": true
   },
   "outputs": [],
   "source": [
    " y=np.random.randint(2, size=len(X.index))"
   ]
  },
  {
   "cell_type": "code",
   "execution_count": 13,
   "metadata": {
    "collapsed": false,
    "deletable": true,
    "editable": true
   },
   "outputs": [
    {
     "data": {
      "text/plain": [
       "PCA(copy=True, iterated_power='auto', n_components=13, random_state=None,\n",
       "  svd_solver='auto', tol=0.0, whiten=False)"
      ]
     },
     "execution_count": 13,
     "metadata": {},
     "output_type": "execute_result"
    }
   ],
   "source": [
    "pca.fit(X)"
   ]
  },
  {
   "cell_type": "code",
   "execution_count": 14,
   "metadata": {
    "collapsed": true,
    "deletable": true,
    "editable": true
   },
   "outputs": [],
   "source": [
    "X = pca.transform(X)"
   ]
  },
  {
   "cell_type": "code",
   "execution_count": 15,
   "metadata": {
    "collapsed": true,
    "deletable": true,
    "editable": true
   },
   "outputs": [],
   "source": [
    "%matplotlib inline"
   ]
  },
  {
   "cell_type": "code",
   "execution_count": null,
   "metadata": {
    "collapsed": false,
    "deletable": true,
    "editable": true,
    "scrolled": true
   },
   "outputs": [],
   "source": [
    "X[:,1]"
   ]
  },
  {
   "cell_type": "code",
   "execution_count": 21,
   "metadata": {
    "collapsed": false,
    "deletable": true,
    "editable": true
   },
   "outputs": [],
   "source": [
    "ax.scatter(X[:,0],X[:,1],X[:,2], c=y,  cmap=plt.cm.spectral)\n",
    "ax.w_xaxis.set_ticklabels([])\n",
    "ax.w_yaxis.set_ticklabels([])\n",
    "ax.w_zaxis.set_ticklabels([])\n",
    "\n",
    "plt.show()"
   ]
  },
  {
   "cell_type": "code",
   "execution_count": 20,
   "metadata": {
    "collapsed": false,
    "deletable": true,
    "editable": true
   },
   "outputs": [
    {
     "data": {
      "text/plain": [
       "<mpl_toolkits.mplot3d.art3d.Path3DCollection at 0xd2f1080>"
      ]
     },
     "execution_count": 20,
     "metadata": {},
     "output_type": "execute_result"
    },
    {
     "data": {
      "image/png": "[encoded data removed]",
      "text/plain": [
       "<matplotlib.figure.Figure at 0xd275588>"
      ]
     },
     "metadata": {},
     "output_type": "display_data"
    }
   ],
   "source": [
    "fig = plt.figure()\n",
    "ax = fig.add_subplot(111, projection='3d')\n",
    "ax.scatter( X[:,0],X[:,1],X[:,2], c=y+100)"
   ]
  },
  {
   "cell_type": "code",
   "execution_count": 24,
   "metadata": {
    "collapsed": false,
    "deletable": true,
    "editable": true
   },
   "outputs": [
    {
     "data": {
      "text/plain": [
       "array([[  3.00342333e-02,  -1.11034343e-01,  -3.81074281e-02,\n",
       "         -1.31224060e-02,  -1.05625623e-01,   4.75055360e-02,\n",
       "          1.04263489e-01,   7.65575213e-03,  -3.94273508e-02,\n",
       "         -3.51886408e-02,   9.70088656e-03,  -9.10095439e-03,\n",
       "         -2.80980281e-03],\n",
       "       [ -2.53923125e-02,  -3.59300677e-02,   1.00003843e-01,\n",
       "         -5.33029699e-02,   2.06599039e-02,  -2.21384652e-02,\n",
       "          8.58467394e-04,   1.39814140e-02,  -9.32533241e-04,\n",
       "          5.11021850e-03,  -4.04286169e-03,  -1.19861869e-02,\n",
       "         -1.55204703e-04],\n",
       "       [  3.05742342e-01,   8.42630049e-02,   2.59680648e-01,\n",
       "         -2.13474289e-02,   2.19546341e-02,  -2.64648401e-02,\n",
       "          6.35588103e-03,  -3.80162873e-02,  -4.71123299e-03,\n",
       "          1.36167603e-02,  -7.68460135e-04,   1.05879603e-02,\n",
       "          1.66069142e-03],\n",
       "       [ -4.20032273e-02,  -3.74029810e-02,   3.97892091e-02,\n",
       "          3.70490446e-02,   3.00573954e-03,  -2.79775739e-02,\n",
       "         -1.98395772e-02,   9.80001593e-03,   2.92920029e-03,\n",
       "         -2.71771192e-02,  -1.88572036e-02,   7.44515589e-03,\n",
       "         -4.46037747e-03],\n",
       "       [  1.88087391e-02,   1.60756265e-01,  -1.09345486e-01,\n",
       "          1.00725973e-01,   4.29203194e-02,  -4.46392464e-03,\n",
       "          7.33453263e-02,  -9.96359169e-03,  -4.08087313e-02,\n",
       "          1.18186084e-02,  -3.31617703e-02,   1.52814359e-04,\n",
       "         -2.92888996e-03],\n",
       "       [ -1.74664662e-01,   2.67688363e-01,   7.53178638e-02,\n",
       "          3.07292147e-02,  -6.17535778e-02,   1.86719431e-02,\n",
       "         -9.43213150e-03,  -4.85743601e-02,  -2.32654804e-02,\n",
       "         -1.76879581e-02,   2.52794197e-02,   4.71350907e-03,\n",
       "          7.84619648e-03],\n",
       "       [  5.68042994e-02,   7.55776219e-02,  -1.61077826e-02,\n",
       "         -1.46473001e-02,  -6.00662447e-02,   5.45906256e-04,\n",
       "         -1.83384005e-02,   3.45429021e-02,  -5.38397761e-03,\n",
       "         -3.96222512e-03,   5.99430108e-03,  -1.39148930e-02,\n",
       "         -7.92539675e-04],\n",
       "       [  1.85044281e-02,  -3.35860159e-02,  -1.39616647e-02,\n",
       "          4.00435269e-02,   6.31088816e-02,  -5.42916452e-02,\n",
       "         -4.54572289e-02,   4.60081177e-02,  -1.98125096e-02,\n",
       "         -1.01091530e-02,  -1.09869142e-02,  -9.17054519e-03,\n",
       "          6.71492628e-05],\n",
       "       [ -1.79689555e-01,  -2.09519143e-02,   1.98978858e-01,\n",
       "         -9.86648616e-03,  -1.31376494e-02,   5.71783372e-03,\n",
       "          8.14332303e-03,   5.27032126e-04,  -8.66942642e-04,\n",
       "         -1.23241524e-02,   9.56107833e-03,  -1.56071630e-02,\n",
       "          1.48366832e-02],\n",
       "       [  2.19715460e-02,  -4.53569040e-02,   7.77607388e-03,\n",
       "         -8.21949068e-02,   2.60285415e-02,  -4.23186464e-02,\n",
       "          1.08107896e-03,  -1.49252191e-02,  -1.37262919e-03,\n",
       "         -3.51096197e-04,  -5.01215453e-03,   1.56023742e-02,\n",
       "          1.18156484e-02],\n",
       "       [  1.84396804e-01,  -2.18928344e-02,   6.96621668e-03,\n",
       "         -3.32805769e-02,  -7.16100196e-03,   2.05262874e-02,\n",
       "          9.25638022e-02,   3.31033665e-02,  -5.14950197e-02,\n",
       "          7.26842226e-03,  -1.73880949e-02,  -1.57490029e-03,\n",
       "         -4.23905293e-04],\n",
       "       [ -2.03448273e-01,   3.25322640e-02,  -4.11941742e-02,\n",
       "          1.60359649e-04,  -6.54190450e-02,   3.03243149e-02,\n",
       "         -4.30534494e-02,   1.46927995e-01,  -1.20390587e-02,\n",
       "         -6.15098312e-03,   9.91287557e-04,   5.25354258e-03,\n",
       "          3.32000299e-03],\n",
       "       [  8.22602727e-02,   7.76319011e-04,   8.45901626e-02,\n",
       "          1.12695907e-01,   9.78524007e-02,   2.01119803e-01,\n",
       "         -1.40725070e-02,  -2.05724455e-02,  -3.58073974e-02,\n",
       "         -2.16765694e-02,   1.23964404e-02,  -5.56022402e-03,\n",
       "          2.72237340e-04],\n",
       "       [ -8.91905993e-02,  -6.22768283e-02,  -5.01517723e-02,\n",
       "         -1.07237255e-01,   5.36035142e-02,  -5.92985345e-02,\n",
       "          2.88722141e-03,  -5.11348649e-02,  -1.75974985e-02,\n",
       "         -6.45985694e-03,  -3.29554183e-03,  -5.78499998e-03,\n",
       "         -2.39395529e-03],\n",
       "       [  2.63331948e-01,   1.41430964e-01,   4.14076933e-03,\n",
       "          7.90463153e-02,   9.08427215e-02,  -2.85562050e-02,\n",
       "          7.31952018e-02,   1.50230208e-03,   1.45476666e-02,\n",
       "         -3.99010070e-02,   1.16619012e-02,  -5.13436659e-03,\n",
       "          8.05602360e-04],\n",
       "       [  2.46624819e-02,  -7.49040373e-04,   1.01509422e-01,\n",
       "         -3.24985985e-02,  -1.69519800e-02,  -1.18659367e-02,\n",
       "         -4.83568798e-04,  -5.42136913e-03,  -1.62157114e-02,\n",
       "          5.68608246e-03,  -3.77719714e-03,  -1.16990381e-02,\n",
       "          9.47674428e-04],\n",
       "       [  8.83270866e-02,  -1.12794583e-01,  -2.32806527e-02,\n",
       "         -9.31499661e-02,  -9.55564251e-04,  -4.10179000e-02,\n",
       "         -9.58846450e-03,  -4.95302036e-03,  -3.19676984e-02,\n",
       "         -2.83422909e-03,  -7.21429054e-03,   1.44868671e-02,\n",
       "         -3.22204938e-03],\n",
       "       [ -1.88819810e-01,  -3.31857114e-02,   3.33561691e-02,\n",
       "          1.07365355e-01,   2.05202300e-02,   2.44778066e-02,\n",
       "          1.10106452e-01,   2.86060849e-02,   1.96003460e-02,\n",
       "          1.39042709e-02,  -4.20591748e-02,   1.97824111e-02,\n",
       "          6.64044231e-03],\n",
       "       [ -1.36919816e-01,   3.43219843e-03,   1.25709358e-01,\n",
       "          1.13513016e-01,  -2.24169920e-02,  -1.11182666e-02,\n",
       "          1.52765533e-02,  -2.07105056e-02,   7.23086035e-02,\n",
       "         -9.84544504e-03,  -2.67926268e-03,   5.02095143e-03,\n",
       "         -5.57452340e-03],\n",
       "       [ -1.64907140e-01,   4.50597445e-02,  -6.93374385e-02,\n",
       "         -5.45947657e-02,   9.76025079e-03,  -2.44542516e-02,\n",
       "          7.61009933e-03,   1.45288078e-02,   5.37643332e-02,\n",
       "         -4.57407337e-03,   4.62840180e-03,  -9.71354139e-03,\n",
       "          1.07161642e-02],\n",
       "       [  2.01818435e-01,   1.73811222e-01,   9.69442413e-03,\n",
       "         -1.00959988e-02,  -4.51356170e-02,  -1.55837651e-02,\n",
       "         -1.76810733e-02,  -2.29919717e-02,  -1.12367031e-02,\n",
       "         -1.02941781e-02,   1.38579769e-02,   8.87943655e-03,\n",
       "         -5.88774567e-04],\n",
       "       [ -1.36644136e-01,  -6.37675807e-02,   1.63490511e-01,\n",
       "         -1.01104061e-02,  -5.44137302e-02,   1.27207835e-02,\n",
       "          3.26006533e-02,  -3.07179168e-02,  -8.77881555e-03,\n",
       "          4.44609288e-02,  -3.55695624e-02,  -9.87516286e-03,\n",
       "         -2.32404871e-03],\n",
       "       [ -1.36875978e-01,   1.48577100e-01,  -2.94811333e-02,\n",
       "         -3.31712325e-02,   2.36457610e-02,  -2.35924997e-02,\n",
       "         -2.08095645e-02,  -5.56012752e-03,  -2.46470422e-02,\n",
       "         -3.10184037e-03,   2.83751664e-03,  -1.15764753e-02,\n",
       "         -5.05982655e-04],\n",
       "       [  6.65587247e-02,  -4.48300774e-02,   6.81291839e-02,\n",
       "         -6.07832583e-02,   1.60483053e-02,  -2.41607858e-02,\n",
       "         -1.64418662e-02,   5.78679529e-02,   7.58118169e-03,\n",
       "         -1.45411825e-02,   1.03581070e-02,   8.41237243e-03,\n",
       "         -3.31929527e-03],\n",
       "       [  2.68151928e-01,  -1.43266733e-01,  -1.83776418e-01,\n",
       "         -1.07101819e-01,  -6.90490690e-02,  -4.22318217e-02,\n",
       "         -6.22679169e-04,   5.15418599e-03,   1.69234445e-02,\n",
       "         -7.30925226e-03,  -6.58068943e-04,  -5.71042337e-03,\n",
       "          7.81902850e-03],\n",
       "       [  2.28654728e-02,   7.15582052e-02,   6.88260038e-02,\n",
       "          1.22198334e-01,   1.03359802e-02,  -1.45826143e-02,\n",
       "         -4.32274077e-02,   9.23168940e-02,   6.56607098e-03,\n",
       "          2.17057169e-02,   1.58853286e-02,  -1.23420942e-02,\n",
       "          1.71492583e-04],\n",
       "       [  8.09663179e-02,  -1.00297008e-01,   2.19163043e-02,\n",
       "         -5.29793977e-02,  -1.46048908e-02,   1.63755631e-01,\n",
       "         -8.16654208e-02,   1.09718313e-02,  -1.54175060e-02,\n",
       "          1.14007297e-02,   1.00598236e-02,   1.13346936e-02,\n",
       "         -2.86917834e-03],\n",
       "       [  8.29190280e-02,  -7.10128055e-02,  -8.33738595e-02,\n",
       "          3.44940222e-02,   4.67026746e-03,  -5.63045416e-02,\n",
       "         -2.46094775e-02,  -1.59102462e-02,  -6.32572067e-03,\n",
       "         -1.45329855e-02,  -9.29928031e-03,  -8.31186589e-03,\n",
       "         -1.14109244e-03],\n",
       "       [ -1.57656258e-01,   4.95856319e-02,  -6.52114776e-02,\n",
       "         -3.71107976e-02,  -1.97083667e-02,  -9.64222665e-03,\n",
       "         -1.73867340e-02,   2.80433796e-02,  -1.60569612e-02,\n",
       "          1.53758543e-04,  -3.26327583e-03,  -1.12594665e-02,\n",
       "         -2.20333716e-03],\n",
       "       [  1.86753221e-02,   8.97214638e-02,   2.81146376e-02,\n",
       "         -5.02150301e-02,   3.72480472e-02,  -3.40201010e-02,\n",
       "         -2.00585954e-02,   1.16314670e-03,  -2.02225465e-02,\n",
       "         -8.06687179e-03,   7.91810284e-03,  -1.17366255e-02,\n",
       "          1.67891686e-04],\n",
       "       [ -5.10330139e-02,  -2.01260641e-01,  -8.87389679e-02,\n",
       "          5.76957682e-02,   2.35940501e-02,  -7.99736201e-02,\n",
       "          8.23354921e-03,  -6.15772998e-02,   1.35239511e-02,\n",
       "          5.05823727e-02,   6.15287609e-02,   1.62565118e-03,\n",
       "         -5.22819384e-04],\n",
       "       [  1.28762198e-01,  -1.05237594e-01,   2.35028824e-02,\n",
       "         -4.55717506e-02,   1.61921248e-02,   1.67939699e-01,\n",
       "          3.70809284e-02,   3.29476804e-02,  -1.64372504e-02,\n",
       "         -1.57231646e-02,   1.92844367e-02,   1.61019417e-02,\n",
       "         -4.47924696e-03],\n",
       "       [  8.29190280e-02,  -7.10128055e-02,  -8.33738595e-02,\n",
       "          3.44940222e-02,   4.67026746e-03,  -5.63045416e-02,\n",
       "         -2.46094775e-02,  -1.59102462e-02,  -6.32572067e-03,\n",
       "         -1.45329855e-02,  -9.29928031e-03,  -8.31186589e-03,\n",
       "         -1.14109244e-03],\n",
       "       [  3.79479404e-02,   4.59875117e-03,  -5.45641654e-02,\n",
       "          1.00816966e-01,  -7.34193372e-02,  -9.36232558e-03,\n",
       "         -1.74223897e-02,  -5.39954812e-04,  -2.90047668e-02,\n",
       "          4.49015592e-02,  -5.22557147e-02,  -6.12415541e-03,\n",
       "         -1.81845236e-03],\n",
       "       [ -8.68175668e-02,  -1.13309503e-01,   1.76668639e-02,\n",
       "         -6.13104960e-02,  -2.94080273e-02,  -1.44392534e-02,\n",
       "         -4.77981987e-03,   6.86104490e-03,  -3.35314656e-02,\n",
       "          3.01464201e-04,  -1.12440734e-02,   1.33059089e-02,\n",
       "          1.13745335e-02],\n",
       "       [ -1.36875978e-01,   1.48577100e-01,  -2.94811333e-02,\n",
       "         -3.31712325e-02,   2.36457610e-02,  -2.35924997e-02,\n",
       "         -2.08095645e-02,  -5.56012752e-03,  -2.46470422e-02,\n",
       "         -3.10184037e-03,   2.83751664e-03,  -1.15764753e-02,\n",
       "         -5.05982655e-04],\n",
       "       [ -2.03485370e-01,   1.06956289e-01,  -4.20431638e-02,\n",
       "         -7.82252221e-02,   9.28176297e-02,  -5.58867887e-02,\n",
       "         -6.08130157e-03,  -3.46279821e-02,   7.12252487e-03,\n",
       "         -1.20314793e-02,   6.68330448e-03,   1.35389961e-02,\n",
       "         -5.70975130e-03],\n",
       "       [  2.58980298e-02,  -4.60825632e-02,  -9.76579656e-02,\n",
       "          1.84455718e-01,  -8.40147391e-02,  -2.26755390e-02,\n",
       "         -3.74065337e-02,   9.14668673e-03,  -1.58458854e-04,\n",
       "         -4.85058041e-03,  -8.84972317e-03,   9.97930717e-03,\n",
       "         -3.86777899e-03],\n",
       "       [  7.01485800e-02,  -3.31818804e-02,   3.06546827e-02,\n",
       "         -5.61827052e-02,  -8.00731573e-03,  -2.19519666e-02,\n",
       "         -1.16219658e-02,   3.53693989e-02,   6.71550147e-03,\n",
       "         -1.54884143e-02,   1.22906350e-02,  -1.32784757e-02,\n",
       "         -8.52160674e-04],\n",
       "       [  1.66589085e-01,   1.73311878e-01,   5.29084280e-02,\n",
       "         -9.41919611e-03,  -2.76694474e-02,  -1.74468733e-02,\n",
       "         -1.23978731e-02,  -3.13265051e-02,  -5.84612107e-03,\n",
       "         -1.17528587e-02,   1.57049468e-02,   8.46084140e-03,\n",
       "          4.34875915e-04],\n",
       "       [  5.73864401e-02,  -3.66412550e-02,   5.56506205e-02,\n",
       "         -7.01038472e-02,  -7.75180465e-04,  -1.64680780e-02,\n",
       "         -1.19727179e-02,   5.97269090e-02,   7.21103841e-03,\n",
       "         -4.99166634e-03,   9.85993442e-03,   9.13393683e-03,\n",
       "         -2.62005784e-03],\n",
       "       [ -1.47071649e-01,   8.77528123e-02,  -4.68748501e-02,\n",
       "         -3.81603490e-02,   3.91254178e-02,  -3.47632792e-02,\n",
       "         -1.46779463e-02,   8.62268453e-03,  -4.46534240e-02,\n",
       "          7.36819078e-02,   5.69481751e-02,  -3.38804304e-05,\n",
       "          3.14101700e-04],\n",
       "       [ -1.78719714e-01,   1.10543327e-02,  -1.04431314e-01,\n",
       "         -3.12095641e-02,  -1.11079601e-02,   2.20029754e-02,\n",
       "          9.68186492e-02,   3.10111224e-03,  -1.96928646e-02,\n",
       "         -4.58501828e-02,   1.94140457e-02,  -7.91446139e-03,\n",
       "         -5.07478784e-03],\n",
       "       [  7.78480982e-02,   1.85707146e-01,   4.96126021e-02,\n",
       "          5.90000703e-02,  -1.59643544e-01,   3.70054078e-02,\n",
       "          1.26258227e-02,  -3.42545886e-02,   2.69008770e-02,\n",
       "          2.24856062e-03,   8.09685437e-03,   3.77113024e-03,\n",
       "         -1.58549304e-03],\n",
       "       [  2.07271853e-01,   1.91244339e-01,  -8.90522229e-02,\n",
       "          1.07927193e-02,  -1.14997787e-01,   6.06998721e-03,\n",
       "         -1.30374723e-02,  -1.98610993e-02,  -2.68411230e-02,\n",
       "          3.00452193e-02,  -1.72804727e-02,  -8.73726448e-03,\n",
       "          1.51326084e-03],\n",
       "       [  7.16293543e-02,  -1.09678425e-01,  -6.02511875e-02,\n",
       "         -9.56210952e-02,  -1.32778409e-02,  -4.37021150e-02,\n",
       "          3.10970031e-03,  -3.66111848e-02,  -2.21611834e-02,\n",
       "          1.32283089e-03,  -9.05866868e-03,  -6.12358321e-03,\n",
       "         -1.38335020e-03],\n",
       "       [ -6.77929470e-02,  -2.39575518e-01,   1.05030552e-01,\n",
       "          6.40520356e-02,  -5.51043175e-02,  -2.10313773e-02,\n",
       "          8.65379737e-03,  -4.06065952e-02,  -2.63155267e-03,\n",
       "         -1.82110533e-02,  -1.01547857e-02,  -1.38893343e-02,\n",
       "         -1.35727264e-03],\n",
       "       [  6.55614782e-02,  -9.72540443e-02,   4.70130725e-02,\n",
       "          1.25726586e-01,   7.08698407e-02,  -7.09695253e-02,\n",
       "         -1.73945716e-02,  -1.53346791e-04,   3.80185750e-02,\n",
       "          8.37600395e-03,  -1.32782629e-02,  -7.25238537e-03,\n",
       "         -1.22446865e-03],\n",
       "       [ -1.15138777e-01,   3.56909394e-03,  -1.20279133e-01,\n",
       "          1.52641653e-01,   2.17059045e-01,  -2.71653453e-03,\n",
       "         -2.15249239e-02,  -8.90418010e-03,  -2.57036421e-02,\n",
       "         -3.86353666e-02,  -2.59380017e-02,  -2.00223555e-04,\n",
       "         -3.67948003e-03],\n",
       "       [  1.26598914e-02,   5.68844500e-02,  -1.22096075e-01,\n",
       "         -6.21644788e-02,   1.21933117e-01,   1.26555424e-01,\n",
       "          5.46331678e-02,  -1.39657536e-03,   4.24726513e-02,\n",
       "          2.11320623e-02,  -8.03196973e-03,  -5.51866701e-03,\n",
       "          4.82539810e-03],\n",
       "       [ -3.89567113e-02,  -8.00859051e-02,   1.79494470e-01,\n",
       "         -4.29269909e-02,   6.48521868e-03,  -1.31292656e-02,\n",
       "          6.30112384e-03,   1.77330689e-02,   1.84901342e-02,\n",
       "         -2.00284484e-02,   1.49058458e-02,   5.50571416e-03,\n",
       "         -3.29382729e-03],\n",
       "       [  7.01485800e-02,  -3.31818804e-02,   3.06546827e-02,\n",
       "         -5.61827052e-02,  -8.00731573e-03,  -2.19519666e-02,\n",
       "         -1.16219658e-02,   3.53693989e-02,   6.71550147e-03,\n",
       "         -1.54884143e-02,   1.22906350e-02,  -1.32784757e-02,\n",
       "         -8.52160674e-04],\n",
       "       [  2.20562652e-02,  -3.07199169e-02,  -5.04724273e-02,\n",
       "         -3.32107199e-02,  -2.77325623e-02,   1.25896365e-01,\n",
       "         -5.71135869e-02,  -5.86985248e-03,   1.39926421e-02,\n",
       "          1.50876833e-02,  -1.05919022e-03,   1.33230373e-02,\n",
       "          5.03486477e-03],\n",
       "       [ -1.19657475e-01,   1.62582967e-02,  -2.45265693e-02,\n",
       "         -2.71588632e-02,  -5.01179785e-02,  -7.39285124e-04,\n",
       "          6.07105423e-03,   1.70745887e-02,   2.68627629e-02,\n",
       "          4.85542480e-03,  -4.91158755e-03,   9.27959535e-03,\n",
       "         -5.47609900e-03],\n",
       "       [ -2.90779221e-02,   6.12844689e-02,   1.33487731e-01,\n",
       "         -4.62505201e-02,   5.56900278e-02,  -3.34920448e-02,\n",
       "          1.17950498e-02,  -2.04317273e-02,   3.25887740e-02,\n",
       "         -7.37643263e-04,   5.16245343e-03,   1.02414899e-02,\n",
       "         -2.65978745e-03],\n",
       "       [  1.33613464e-01,   6.62582093e-02,  -9.10440849e-02,\n",
       "          5.52000800e-04,  -1.40928146e-01,   1.53775416e-02,\n",
       "          2.04505236e-02,   1.83355994e-02,   8.32839217e-02,\n",
       "          7.57043905e-03,   3.69172629e-03,  -1.45538982e-02,\n",
       "         -2.64776293e-03],\n",
       "       [ -3.03013705e-02,   1.39149873e-01,  -1.31027804e-01,\n",
       "         -7.93043839e-02,   6.43467152e-02,  -5.49668836e-02,\n",
       "         -2.22478857e-03,  -7.80843979e-03,   3.65182296e-02,\n",
       "          1.81194800e-02,  -1.19359803e-02,   1.75357212e-02,\n",
       "         -5.63501278e-03],\n",
       "       [  4.22843199e-02,  -3.50975980e-02,  -7.93115660e-02,\n",
       "          2.14266022e-02,   1.32899791e-01,   7.05169329e-02,\n",
       "         -9.40988168e-02,   1.09729461e-02,   2.82409116e-02,\n",
       "          2.85241216e-03,  -7.06956409e-03,  -5.33943421e-03,\n",
       "         -2.47377618e-03],\n",
       "       [  6.20869973e-02,  -6.67563797e-02,   7.00092918e-02,\n",
       "         -8.37838107e-02,   3.69116231e-02,  -4.60282361e-02,\n",
       "          2.30966559e-02,  -2.29065034e-02,   5.38381270e-02,\n",
       "         -9.11409869e-03,   9.70260719e-03,  -1.05858794e-02,\n",
       "         -1.94513979e-03],\n",
       "       [ -7.45394550e-02,  -5.49464838e-02,  -1.64584500e-01,\n",
       "          1.82836813e-01,  -1.90635113e-01,   4.34199203e-03,\n",
       "         -1.50531033e-02,  -4.39963469e-02,   9.47629118e-03,\n",
       "         -1.99480034e-02,   2.86874540e-02,   7.51851269e-03,\n",
       "          5.63990229e-03],\n",
       "       [  5.29116477e-03,  -4.88731255e-02,  -6.30362215e-02,\n",
       "         -4.67994491e-02,  -7.41758345e-02,  -8.58696944e-03,\n",
       "          8.24081213e-03,  -4.77428336e-03,   4.37720167e-03,\n",
       "          1.50100256e-02,  -1.66235740e-02,   1.28561901e-02,\n",
       "         -4.54723632e-03],\n",
       "       [ -1.19657475e-01,   1.62582967e-02,  -2.45265693e-02,\n",
       "         -2.71588632e-02,  -5.01179785e-02,  -7.39285124e-04,\n",
       "          6.07105423e-03,   1.70745887e-02,   2.68627629e-02,\n",
       "          4.85542480e-03,  -4.91158755e-03,   9.27959535e-03,\n",
       "         -5.47609900e-03],\n",
       "       [ -1.01960006e-01,  -1.23467042e-01,  -6.28459764e-02,\n",
       "         -9.87633654e-02,   1.48124920e-02,   9.40452927e-02,\n",
       "         -3.64735016e-02,  -1.04557062e-01,  -1.49443050e-02,\n",
       "          3.36748702e-03,   7.17702165e-03,  -5.62592276e-03,\n",
       "         -1.31510163e-03],\n",
       "       [ -5.00745149e-03,  -2.99396364e-02,   1.15700194e-01,\n",
       "         -4.37892149e-02,   1.43245190e-02,  -1.30267427e-02,\n",
       "          1.38652329e-02,   1.92161164e-02,  -5.39785737e-03,\n",
       "          5.93436637e-02,  -4.46189536e-02,  -5.19072640e-03,\n",
       "         -1.22449075e-03],\n",
       "       [  8.22228370e-02,   5.44038290e-03,   1.14884234e-02,\n",
       "         -4.64682369e-02,  -2.60599877e-02,  -1.94119083e-02,\n",
       "         -6.23213515e-03,   4.11384248e-03,  -7.86507409e-03,\n",
       "          4.54575652e-03,  -5.00288440e-03,   1.15983336e-02,\n",
       "         -3.22347302e-03],\n",
       "       [ -1.54749780e-02,  -2.65633076e-02,   8.37648140e-02,\n",
       "          1.06408575e-01,   6.44326009e-03,   1.14887276e-01,\n",
       "         -5.75415610e-02,  -4.56362420e-02,   2.88289748e-02,\n",
       "          4.97756523e-03,  -6.18603992e-03,  -1.25152167e-02,\n",
       "         -1.04599532e-03],\n",
       "       [  1.26598914e-02,   5.68844500e-02,  -1.22096075e-01,\n",
       "         -6.21644788e-02,   1.21933117e-01,   1.26555424e-01,\n",
       "          5.46331678e-02,  -1.39657536e-03,   4.24726513e-02,\n",
       "          2.11320623e-02,  -8.03196973e-03,  -5.51866701e-03,\n",
       "          4.82539810e-03],\n",
       "       [ -6.64382302e-02,   1.09627613e-01,   4.25414515e-02,\n",
       "         -3.54160345e-02,   2.69280236e-02,  -2.54388065e-02,\n",
       "         -1.90768694e-02,  -4.13959173e-03,  -1.55322960e-02,\n",
       "         -1.84855296e-02,   1.44181978e-02,   8.63522878e-03,\n",
       "         -2.87354661e-03],\n",
       "       [  8.99521909e-02,  -1.37020353e-01,  -1.20980956e-02,\n",
       "          1.99543588e-01,   1.05462154e-01,  -5.02904380e-02,\n",
       "          6.56961507e-02,   3.64109515e-02,  -1.90997788e-02,\n",
       "          4.67061117e-02,   7.46732546e-02,   7.09798913e-03,\n",
       "          1.07311023e-03],\n",
       "       [  3.52124843e-02,  -7.39115962e-02,  -1.09990357e-01,\n",
       "         -5.41399877e-03,   6.33706060e-03,  -5.10347241e-02,\n",
       "         -2.49053950e-02,   9.43024976e-03,   9.62428564e-03,\n",
       "         -3.24036118e-02,  -1.92387847e-02,   1.29461563e-02,\n",
       "          1.03635976e-02],\n",
       "       [ -2.60563474e-01,  -5.74901617e-02,   7.19818937e-02,\n",
       "          9.34439788e-03,  -1.16127039e-01,   3.25450620e-02,\n",
       "          8.99487987e-03,  -6.22465145e-03,  -1.89578399e-02,\n",
       "         -7.08553100e-03,  -1.83842756e-03,   4.47474268e-03,\n",
       "         -4.38045444e-03],\n",
       "       [  8.78317533e-02,   4.03489477e-03,   7.85812576e-02,\n",
       "          1.04933588e-01,   7.30400505e-02,  -6.48998056e-02,\n",
       "         -3.38124407e-02,  -2.56851603e-02,  -1.45383042e-02,\n",
       "         -1.15913219e-02,  -2.96357677e-02,   1.37458101e-02,\n",
       "          8.11916716e-03]])"
      ]
     },
     "execution_count": 24,
     "metadata": {},
     "output_type": "execute_result"
    }
   ],
   "source": [
    "X"
   ]
  }
 ],
 "metadata": {
  "kernelspec": {
   "display_name": "Python 3",
   "language": "python",
   "name": "python3"
  },
  "language_info": {
   "codemirror_mode": {
    "name": "ipython",
    "version": 3
   },
   "file_extension": ".py",
   "mimetype": "text/x-python",
   "name": "python",
   "nbconvert_exporter": "python",
   "pygments_lexer": "ipython3",
   "version": "3.6.0"
  }
 },
 "nbformat": 4,
 "nbformat_minor": 2
}
