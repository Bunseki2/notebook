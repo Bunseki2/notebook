{
 "cells": [
  {
   "cell_type": "code",
   "execution_count": 2,
   "metadata": {
    "collapsed": true,
    "deletable": true,
    "editable": true
   },
   "outputs": [],
   "source": [
    "import pandas as pd\n",
    "import numpy as np"
   ]
  },
  {
   "cell_type": "code",
   "execution_count": 3,
   "metadata": {
    "collapsed": false,
    "deletable": true,
    "editable": true
   },
   "outputs": [],
   "source": [
    "## l000-chem-pert-20413.xslx was downloaded from LINCS could, then using BRD-ids in that file, cid was extracted from PubChem on cbbdev\n",
    "\n",
    "data_brdid_cid = pd.read_table(\"data/l000-chem-pert-20413.cmpd.cid.all.txt\", header=None, sep=\" \",na_filter=True)"
   ]
  },
  {
   "cell_type": "code",
   "execution_count": 4,
   "metadata": {
    "collapsed": false,
    "deletable": true,
    "editable": true
   },
   "outputs": [
    {
     "name": "stdout",
     "output_type": "stream",
     "text": [
      "<class 'pandas.core.frame.DataFrame'>\n",
      "RangeIndex: 20401 entries, 0 to 20400\n",
      "Data columns (total 2 columns):\n",
      "brdid    20401 non-null object\n",
      "cid      18494 non-null float64\n",
      "dtypes: float64(1), object(1)\n",
      "memory usage: 318.8+ KB\n"
     ]
    }
   ],
   "source": [
    "data_brdid_cid.columns=['brdid','cid']\n",
    "data_brdid_cid.info()"
   ]
  },
  {
   "cell_type": "code",
   "execution_count": 5,
   "metadata": {
    "collapsed": true,
    "deletable": true,
    "editable": true
   },
   "outputs": [],
   "source": [
    "data_brdid_cid=data_brdid_cid.dropna()"
   ]
  },
  {
   "cell_type": "code",
   "execution_count": 6,
   "metadata": {
    "collapsed": false,
    "deletable": true,
    "editable": true
   },
   "outputs": [],
   "source": [
    "data_brdid_cid['cid'] = data_brdid_cid['cid'].astype(np.int64)"
   ]
  },
  {
   "cell_type": "code",
   "execution_count": 7,
   "metadata": {
    "collapsed": false,
    "deletable": true,
    "editable": true
   },
   "outputs": [
    {
     "name": "stdout",
     "output_type": "stream",
     "text": [
      "<class 'pandas.core.frame.DataFrame'>\n",
      "Int64Index: 18494 entries, 1 to 20400\n",
      "Data columns (total 2 columns):\n",
      "brdid    18494 non-null object\n",
      "cid      18494 non-null int64\n",
      "dtypes: int64(1), object(1)\n",
      "memory usage: 433.5+ KB\n"
     ]
    }
   ],
   "source": [
    "data_brdid_cid.info()"
   ]
  },
  {
   "cell_type": "code",
   "execution_count": 8,
   "metadata": {
    "collapsed": false,
    "deletable": true,
    "editable": true,
    "scrolled": true
   },
   "outputs": [],
   "source": [
    "data_dbid_cid2 = pd.read_table(\"data/PubChem_IDexchange_results_for_data_brdid_cid_noNA_txt_DBstart_uniq.txt\", header=None, sep=\"\\t\",na_filter=True)"
   ]
  },
  {
   "cell_type": "code",
   "execution_count": 9,
   "metadata": {
    "collapsed": false,
    "deletable": true,
    "editable": true
   },
   "outputs": [
    {
     "name": "stdout",
     "output_type": "stream",
     "text": [
      "<class 'pandas.core.frame.DataFrame'>\n",
      "RangeIndex: 796 entries, 0 to 795\n",
      "Data columns (total 2 columns):\n",
      "cid     796 non-null int64\n",
      "dbid    796 non-null object\n",
      "dtypes: int64(1), object(1)\n",
      "memory usage: 12.5+ KB\n"
     ]
    }
   ],
   "source": [
    "data_dbid_cid2.columns=['cid', 'dbid']\n",
    "data_dbid_cid2.info()"
   ]
  },
  {
   "cell_type": "code",
   "execution_count": 10,
   "metadata": {
    "collapsed": false,
    "deletable": true,
    "editable": true
   },
   "outputs": [],
   "source": [
    "data_cid_dict2 = data_dbid_cid2.set_index('cid')['dbid'].to_dict()"
   ]
  },
  {
   "cell_type": "code",
   "execution_count": 11,
   "metadata": {
    "collapsed": true,
    "deletable": true,
    "editable": true
   },
   "outputs": [],
   "source": [
    "data_brdid_cid_dbid2 = data_brdid_cid.cid.map(data_cid_dict2)"
   ]
  },
  {
   "cell_type": "code",
   "execution_count": 12,
   "metadata": {
    "collapsed": true,
    "deletable": true,
    "editable": true
   },
   "outputs": [],
   "source": [
    "data_brdid_cid_dbid3 = pd.concat([data_brdid_cid, data_brdid_cid_dbid2], axis=1) "
   ]
  },
  {
   "cell_type": "code",
   "execution_count": 13,
   "metadata": {
    "collapsed": false,
    "deletable": true,
    "editable": true
   },
   "outputs": [
    {
     "name": "stdout",
     "output_type": "stream",
     "text": [
      "<class 'pandas.core.frame.DataFrame'>\n",
      "Int64Index: 18494 entries, 1 to 20400\n",
      "Data columns (total 3 columns):\n",
      "brdid    18494 non-null object\n",
      "cid      18494 non-null int64\n",
      "cid      762 non-null object\n",
      "dtypes: int64(1), object(2)\n",
      "memory usage: 577.9+ KB\n"
     ]
    }
   ],
   "source": [
    "data_brdid_cid_dbid3.info()"
   ]
  },
  {
   "cell_type": "code",
   "execution_count": 14,
   "metadata": {
    "collapsed": true,
    "deletable": true,
    "editable": true
   },
   "outputs": [],
   "source": [
    "data_brdid_cid_dbid3_noNA = data_brdid_cid_dbid3.dropna()"
   ]
  },
  {
   "cell_type": "code",
   "execution_count": 15,
   "metadata": {
    "collapsed": false,
    "deletable": true,
    "editable": true
   },
   "outputs": [
    {
     "name": "stdout",
     "output_type": "stream",
     "text": [
      "<class 'pandas.core.frame.DataFrame'>\n",
      "Int64Index: 762 entries, 10 to 20330\n",
      "Data columns (total 3 columns):\n",
      "brdid    762 non-null object\n",
      "cid      762 non-null int64\n",
      "cid      762 non-null object\n",
      "dtypes: int64(1), object(2)\n",
      "memory usage: 23.8+ KB\n"
     ]
    }
   ],
   "source": [
    "data_brdid_cid_dbid3_noNA.info()"
   ]
  },
  {
   "cell_type": "code",
   "execution_count": 16,
   "metadata": {
    "collapsed": true,
    "deletable": true,
    "editable": true
   },
   "outputs": [],
   "source": [
    "data_brdid_cid_dbid3_noNA.columns=['brdid','cid', 'dbid']"
   ]
  },
  {
   "cell_type": "markdown",
   "metadata": {
    "collapsed": true,
    "deletable": true,
    "editable": true
   },
   "source": [
    "data_brdid_cid_dbid3_noNA.to_csv(\"data_brdid_cid_dbid3_noNA.fromPubChemIDExchangecid_dbid.txt\",sep=\" \", index=False, header=False, na_rep=\"NA\")"
   ]
  },
  {
   "cell_type": "code",
   "execution_count": 17,
   "metadata": {
    "collapsed": false
   },
   "outputs": [],
   "source": [
    "PC3_10_6H_results_up = pd.read_table(\"data/upDnforPC3Need/PC3_10_6H_results_up.txt\", header=None, sep=\" \",na_filter=True)"
   ]
  },
  {
   "cell_type": "code",
   "execution_count": 24,
   "metadata": {
    "collapsed": false
   },
   "outputs": [],
   "source": [
    "data_brdid_dbid3_dict = data_brdid_cid_dbid3_noNA.set_index('brdid')['dbid'].to_dict()"
   ]
  },
  {
   "cell_type": "code",
   "execution_count": 21,
   "metadata": {
    "collapsed": false
   },
   "outputs": [],
   "source": [
    "PC3_10_6H_results_up.columns = ['brdid', 'geneid']"
   ]
  },
  {
   "cell_type": "code",
   "execution_count": 25,
   "metadata": {
    "collapsed": true
   },
   "outputs": [],
   "source": [
    "PC3_10_6H_results_up_dbid = PC3_10_6H_results_up.brdid.map(data_brdid_dbid3_dict )"
   ]
  },
  {
   "cell_type": "code",
   "execution_count": 27,
   "metadata": {
    "collapsed": false
   },
   "outputs": [],
   "source": [
    "PC3_10_6H_results_up_dbid_geneid = pd.concat([PC3_10_6H_results_up_dbid, PC3_10_6H_results_up.geneid], axis=1)"
   ]
  },
  {
   "cell_type": "code",
   "execution_count": 29,
   "metadata": {
    "collapsed": true
   },
   "outputs": [],
   "source": [
    "PC3_10_6H_results_up_dbid_geneid.columns = ['dbid','geneid']"
   ]
  },
  {
   "cell_type": "code",
   "execution_count": 31,
   "metadata": {
    "collapsed": false
   },
   "outputs": [],
   "source": [
    "PC3_10_6H_results_up_dbid_geneid_noNA = PC3_10_6H_results_up_dbid_geneid.dropna()"
   ]
  },
  {
   "cell_type": "code",
   "execution_count": 32,
   "metadata": {
    "collapsed": false
   },
   "outputs": [
    {
     "name": "stdout",
     "output_type": "stream",
     "text": [
      "<class 'pandas.core.frame.DataFrame'>\n",
      "Int64Index: 8576 entries, 40 to 16329\n",
      "Data columns (total 2 columns):\n",
      "dbid      8576 non-null object\n",
      "geneid    8576 non-null int64\n",
      "dtypes: int64(1), object(1)\n",
      "memory usage: 201.0+ KB\n"
     ]
    }
   ],
   "source": [
    "PC3_10_6H_results_up_dbid_geneid_noNA.info()"
   ]
  },
  {
   "cell_type": "code",
   "execution_count": 33,
   "metadata": {
    "collapsed": true
   },
   "outputs": [],
   "source": [
    "PC3_10_6H_results_dn = pd.read_table(\"data/upDnforPC3Need/PC3_10_6H_results_dn.txt\", header=None, sep=\" \",na_filter=True)"
   ]
  },
  {
   "cell_type": "code",
   "execution_count": 34,
   "metadata": {
    "collapsed": true
   },
   "outputs": [],
   "source": [
    "PC3_10_6H_results_dn.columns = ['brdid', 'geneid']"
   ]
  },
  {
   "cell_type": "code",
   "execution_count": 35,
   "metadata": {
    "collapsed": true
   },
   "outputs": [],
   "source": [
    "PC3_10_6H_results_dn_dbid = PC3_10_6H_results_dn.brdid.map(data_brdid_dbid3_dict )"
   ]
  },
  {
   "cell_type": "code",
   "execution_count": 37,
   "metadata": {
    "collapsed": true
   },
   "outputs": [],
   "source": [
    "PC3_10_6H_results_dn_dbid_geneid = pd.concat([PC3_10_6H_results_dn_dbid, PC3_10_6H_results_dn.geneid], axis=1)"
   ]
  },
  {
   "cell_type": "code",
   "execution_count": 38,
   "metadata": {
    "collapsed": true
   },
   "outputs": [],
   "source": [
    "PC3_10_6H_results_dn_dbid_geneid_noNA = PC3_10_6H_results_dn_dbid_geneid.dropna()"
   ]
  },
  {
   "cell_type": "code",
   "execution_count": 39,
   "metadata": {
    "collapsed": false
   },
   "outputs": [
    {
     "name": "stdout",
     "output_type": "stream",
     "text": [
      "<class 'pandas.core.frame.DataFrame'>\n",
      "Int64Index: 9387 entries, 34 to 17542\n",
      "Data columns (total 2 columns):\n",
      "brdid     9387 non-null object\n",
      "geneid    9387 non-null int64\n",
      "dtypes: int64(1), object(1)\n",
      "memory usage: 220.0+ KB\n"
     ]
    }
   ],
   "source": [
    "PC3_10_6H_results_dn_dbid_geneid_noNA.info()"
   ]
  },
  {
   "cell_type": "code",
   "execution_count": 41,
   "metadata": {
    "collapsed": false
   },
   "outputs": [],
   "source": [
    "PC3_10_6H_results_up_dbid_geneid_noNA.to_csv(\"data/upDnforPC3Need/PC3_10_6H_results_up_dbid_geneid_noNA.txt\", sep=\" \", index=False, header=False, na_rep=\"NA\")"
   ]
  },
  {
   "cell_type": "code",
   "execution_count": 42,
   "metadata": {
    "collapsed": true
   },
   "outputs": [],
   "source": [
    "PC3_10_6H_results_dn_dbid_geneid_noNA.to_csv(\"data/upDnforPC3Need/PC3_10_6H_results_dn_dbid_geneid_noNA.txt\", sep=\" \", index=False, header=False, na_rep=\"NA\")"
   ]
  }
 ],
 "metadata": {
  "kernelspec": {
   "display_name": "Python 3",
   "language": "python",
   "name": "python3"
  },
  "language_info": {
   "codemirror_mode": {
    "name": "ipython",
    "version": 3
   },
   "file_extension": ".py",
   "mimetype": "text/x-python",
   "name": "python",
   "nbconvert_exporter": "python",
   "pygments_lexer": "ipython3",
   "version": "3.6.0"
  }
 },
 "nbformat": 4,
 "nbformat_minor": 2
}
