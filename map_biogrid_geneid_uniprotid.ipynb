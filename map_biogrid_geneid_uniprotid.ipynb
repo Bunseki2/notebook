{
 "cells": [
  {
   "cell_type": "code",
   "execution_count": 1,
   "metadata": {
    "collapsed": true
   },
   "outputs": [],
   "source": [
    "import pandas as pd\n",
    "import numpy as np"
   ]
  },
  {
   "cell_type": "code",
   "execution_count": 20,
   "metadata": {},
   "outputs": [],
   "source": [
    "data_geneid_uniprotid = pd.read_table(\"C:/Users/takedatn/Documents/Synergestic/BIOGRID-ORGANISM-3.4.149.tab2/uniprot_geneid.reviewed.tab\", header=0, sep=\"\\t\")"
   ]
  },
  {
   "cell_type": "code",
   "execution_count": 21,
   "metadata": {},
   "outputs": [
    {
     "name": "stdout",
     "output_type": "stream",
     "text": [
      "<class 'pandas.core.frame.DataFrame'>\n",
      "RangeIndex: 18825 entries, 0 to 18824\n",
      "Data columns (total 2 columns):\n",
      "yourlist:M201706028A530B6CA0138AFAA6D2B97CE8C2A924D3BEEC8    18825 non-null object\n",
      "Entry                                                        18825 non-null object\n",
      "dtypes: object(2)\n",
      "memory usage: 294.2+ KB\n"
     ]
    }
   ],
   "source": [
    "data_geneid_uniprotid.info()"
   ]
  },
  {
   "cell_type": "code",
   "execution_count": 22,
   "metadata": {
    "collapsed": true
   },
   "outputs": [],
   "source": [
    "data_geneid_uniprotid.columns=['geneid','uniprotid']"
   ]
  },
  {
   "cell_type": "code",
   "execution_count": 23,
   "metadata": {
    "collapsed": true
   },
   "outputs": [],
   "source": [
    "data_geneid_uniprotidd_dict2 = data_geneid_uniprotid.set_index('uniprotid')['geneid'].to_dict()"
   ]
  },
  {
   "cell_type": "code",
   "execution_count": 24,
   "metadata": {
    "collapsed": true
   },
   "outputs": [],
   "source": [
    "data_biogrid_pair = pd.read_table(\"C:/Users/takedatn/Documents/Synergestic/BIOGRID-ORGANISM-3.4.149.tab2/BIOGRID-ORGANISM-Homo-sapiens-3.4.149.tab2.ABphysical.txt\",header=None, sep=\"\\t\")"
   ]
  },
  {
   "cell_type": "code",
   "execution_count": 25,
   "metadata": {
    "scrolled": true
   },
   "outputs": [
    {
     "name": "stdout",
     "output_type": "stream",
     "text": [
      "<class 'pandas.core.frame.DataFrame'>\n",
      "RangeIndex: 394749 entries, 0 to 394748\n",
      "Data columns (total 3 columns):\n",
      "0    394749 non-null int64\n",
      "1    394749 non-null int64\n",
      "2    394749 non-null object\n",
      "dtypes: int64(2), object(1)\n",
      "memory usage: 9.0+ MB\n"
     ]
    }
   ],
   "source": [
    "data_biogrid_pair.info()"
   ]
  },
  {
   "cell_type": "code",
   "execution_count": 26,
   "metadata": {
    "collapsed": true
   },
   "outputs": [],
   "source": [
    "data_biogrid_pair.columns =['A','B','physical']"
   ]
  },
  {
   "cell_type": "code",
   "execution_count": 28,
   "metadata": {},
   "outputs": [],
   "source": [
    "data_biogrid_pair_A = data_biogrid_pair.A.map(data_geneid_uniprotidd_dict2)"
   ]
  },
  {
   "cell_type": "code",
   "execution_count": 29,
   "metadata": {
    "collapsed": true
   },
   "outputs": [],
   "source": [
    "data_biogrid_pair_B = data_biogrid_pair.B.map(data_geneid_uniprotidd_dict2)"
   ]
  },
  {
   "cell_type": "code",
   "execution_count": 30,
   "metadata": {
    "collapsed": true
   },
   "outputs": [],
   "source": [
    "data_biogrid_pair_uniprotid = pd.concat([data_biogrid_pair, data_biogrid_pair_A, data_biogrid_pair_B], axis=1)"
   ]
  },
  {
   "cell_type": "code",
   "execution_count": 31,
   "metadata": {},
   "outputs": [
    {
     "name": "stdout",
     "output_type": "stream",
     "text": [
      "<class 'pandas.core.frame.DataFrame'>\n",
      "RangeIndex: 394749 entries, 0 to 394748\n",
      "Data columns (total 5 columns):\n",
      "A           394749 non-null int64\n",
      "B           394749 non-null int64\n",
      "physical    394749 non-null object\n",
      "A           0 non-null object\n",
      "B           0 non-null object\n",
      "dtypes: int64(2), object(3)\n",
      "memory usage: 15.1+ MB\n"
     ]
    }
   ],
   "source": [
    "data_biogrid_pair_uniprotid.info()"
   ]
  }
 ],
 "metadata": {
  "kernelspec": {
   "display_name": "Python 3",
   "language": "python",
   "name": "python3"
  },
  "language_info": {
   "codemirror_mode": {
    "name": "ipython",
    "version": 3
   },
   "file_extension": ".py",
   "mimetype": "text/x-python",
   "name": "python",
   "nbconvert_exporter": "python",
   "pygments_lexer": "ipython3",
   "version": "3.6.5"
  }
 },
 "nbformat": 4,
 "nbformat_minor": 2
}
