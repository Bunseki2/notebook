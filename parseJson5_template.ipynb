{
 "cells": [
  {
   "cell_type": "code",
   "execution_count": 1,
   "metadata": {
    "collapsed": false,
    "deletable": true,
    "editable": true
   },
   "outputs": [],
   "source": [
    "import pandas as pd\n",
    "\n",
    "#data = pd.read_json(\"all.list3.json\")"
   ]
  },
  {
   "cell_type": "code",
   "execution_count": 2,
   "metadata": {
    "collapsed": false,
    "deletable": true,
    "editable": true
   },
   "outputs": [
    {
     "ename": "TypeError",
     "evalue": "sequence item 0: expected str instance, bytes found",
     "output_type": "error",
     "traceback": [
      "\u001b[0;31m---------------------------------------------------------------------------\u001b[0m",
      "\u001b[0;31mTypeError\u001b[0m                                 Traceback (most recent call last)",
      "\u001b[0;32m<ipython-input-2-2996900e9cdf>\u001b[0m in \u001b[0;36m<module>\u001b[0;34m()\u001b[0m\n\u001b[1;32m     13\u001b[0m \u001b[1;31m# and end, and have all the individual business JSON objects\u001b[0m\u001b[1;33m\u001b[0m\u001b[1;33m\u001b[0m\u001b[0m\n\u001b[1;32m     14\u001b[0m \u001b[1;31m# separated by a comma\u001b[0m\u001b[1;33m\u001b[0m\u001b[1;33m\u001b[0m\u001b[0m\n\u001b[0;32m---> 15\u001b[0;31m \u001b[0mdata_json_str\u001b[0m \u001b[1;33m=\u001b[0m \u001b[1;34m\"[\"\u001b[0m \u001b[1;33m+\u001b[0m \u001b[1;34m','\u001b[0m\u001b[1;33m.\u001b[0m\u001b[0mjoin\u001b[0m\u001b[1;33m(\u001b[0m\u001b[0mdata\u001b[0m\u001b[1;33m)\u001b[0m \u001b[1;33m+\u001b[0m \u001b[1;34m\"]\"\u001b[0m\u001b[1;33m\u001b[0m\u001b[0m\n\u001b[0m\u001b[1;32m     16\u001b[0m \u001b[1;33m\u001b[0m\u001b[0m\n\u001b[1;32m     17\u001b[0m \u001b[1;31m# now, load it into pandas\u001b[0m\u001b[1;33m\u001b[0m\u001b[1;33m\u001b[0m\u001b[0m\n",
      "\u001b[0;31mTypeError\u001b[0m: sequence item 0: expected str instance, bytes found"
     ]
    }
   ],
   "source": [
    "\n",
    "# read the entire file into a python array\n",
    "with open('all.list3.json', 'rb') as f:\n",
    "    data = f.readlines()\n",
    "\n",
    "# remove the trailing \"\\n\" from each line\n",
    "data = map(lambda x: x.rstrip(), data)\n",
    "\n",
    "# each element of 'data' is an individual JSON object.\n",
    "# i want to convert it into an *array* of JSON objects\n",
    "# which, in and of itself, is one large JSON object\n",
    "# basically... add square brackets to the beginning\n",
    "# and end, and have all the individual business JSON objects\n",
    "# separated by a comma\n",
    "data_json_str = \"[\" + ','.join(data) + \"]\"\n",
    "\n",
    "# now, load it into pandas\n",
    "#data_df = pd.read_json(data)"
   ]
  },
  {
   "cell_type": "code",
   "execution_count": null,
   "metadata": {
    "collapsed": false,
    "deletable": true,
    "editable": true
   },
   "outputs": [],
   "source": [
    "data"
   ]
  },
  {
   "cell_type": "code",
   "execution_count": null,
   "metadata": {
    "collapsed": false,
    "deletable": true,
    "editable": true
   },
   "outputs": [],
   "source": [
    "data2 = pd.read_csv(\"lm_geneid_prid.all.nonredun.1to1.txt\", header=None,delim_whitespace=True)\n",
    "\n",
    "data2 = data2.rename(columns = {\n",
    "\n",
    "    0:'geneid',\n",
    "    1:'prid',\n",
    "})\n",
    "\n",
    "data2_dict = data2.set_index('prid')['geneid'].to_dict()"
   ]
  },
  {
   "cell_type": "code",
   "execution_count": null,
   "metadata": {
    "collapsed": false,
    "deletable": true,
    "editable": true
   },
   "outputs": [],
   "source": [
    "HEPG2_10=data[(data.cell_id==\"HEPG2\") & (data.pert_idose==\"10 ÂµM\")]\n",
    "\n",
    "pertuniq=HEPG2_10.pert_id.unique()\n",
    "\n",
    "df_up = pd.DataFrame()\n",
    "df_dn = pd.DataFrame()\n",
    "\n",
    "for i in range(0, len(pertuniq)): \n",
    "    HEPG2_10_pert=HEPG2_10[HEPG2_10.pert_id==pertuniq[i]]\n",
    "\n",
    "    if len(HEPG2_10.distil_cc_q75) > 1:\n",
    "        HEPG2_10_pert_q75=HEPG2_10_pert.distil_cc_q75.max() \n",
    "        HEPG2_10_pert_q75=HEPG2_10_pert[HEPG2_10_pert.distil_cc_q75==HEPG2_10_pert_q75]\n",
    "        if len(HEPG2_10_pert_q75.distil_ss) > 1:\n",
    "            HEPG2_10_pert_ss=HEPG2_10_pert_q75.distil_ss.max() \n",
    "            HEPG2_10_pert_best=HEPG2_10_pert_q75[HEPG2_10_pert_q75.distil_ss==HEPG2_10_pert_ss]\n",
    "        elif len(HEPG2_10_pert_q75.distil_ss) == 1:\n",
    "            HEPG2_10_pert_best=HEPG2_10_pert_q75\n",
    "        else:\n",
    "            print('something wrong!')\n",
    "    elif len(HEPG2_10_pert.distil_cc_q75) == 1:\n",
    "        HEPG2_10_pert_best=HEPG2_10_pert\n",
    "    else:\n",
    "        print('something wrong!')\n",
    "\n",
    "    ngenes_dn=HEPG2_10_pert_best.ngenes_modulated_dn_lm.values[0]\n",
    "    ngenes_up=HEPG2_10_pert_best.ngenes_modulated_up_lm.values[0]-1\n",
    "\n",
    "    up_lm50_n=HEPG2_10_pert_best.up50_lm.values[0][0:(ngenes_up)]\n",
    "    dn_lm50_n=HEPG2_10_pert_best.dn50_lm.values[0][-(ngenes_dn):]\n",
    "    up_lm50_n_s= pd.Series(up_lm50_n)\n",
    "    dn_lm50_n_s= pd.Series(dn_lm50_n)\n",
    "    \n",
    "    up_lm50_n_geneid = up_lm50_n_s.map(data2_dict)\n",
    "    dn_lm50_n_geneid = dn_lm50_n_s.map(data2_dict)\n",
    "    \n",
    "    up_genes = pd.DataFrame({'labels': pertuniq[i] , 'ngenes_up': up_lm50_n_geneid})\n",
    "    dn_genes = pd.DataFrame({'labels': pertuniq[i] , 'ngenes_dn': dn_lm50_n_geneid})\n",
    "    df_up=df_up.append(up_genes)\n",
    "    df_dn=df_dn.append(dn_genes)\n",
    "\n",
    "df_up.to_csv(\"HEPG2_10_results_up.txt\", sep=\" \", header=False, index=False)\n",
    "df_dn.to_csv(\"HEPG2_10_results_dn.txt\", sep=\" \", header=False, index=False)"
   ]
  },
  {
   "cell_type": "code",
   "execution_count": null,
   "metadata": {
    "collapsed": false,
    "deletable": true,
    "editable": true
   },
   "outputs": [],
   "source": [
    "data.info()"
   ]
  },
  {
   "cell_type": "code",
   "execution_count": null,
   "metadata": {
    "collapsed": false,
    "deletable": true,
    "editable": true
   },
   "outputs": [],
   "source": [
    "test = pd.read_json(\"all.list.1.json\")\n",
    "test.info()"
   ]
  },
  {
   "cell_type": "code",
   "execution_count": null,
   "metadata": {
    "collapsed": false,
    "deletable": true,
    "editable": true
   },
   "outputs": [],
   "source": [
    "pertuniq=test.pert_id.unique()\n",
    "len(pertuniq)"
   ]
  }
 ],
 "metadata": {
  "kernelspec": {
   "display_name": "Python 3",
   "language": "python",
   "name": "python3"
  },
  "language_info": {
   "codemirror_mode": {
    "name": "ipython",
    "version": 3
   },
   "file_extension": ".py",
   "mimetype": "text/x-python",
   "name": "python",
   "nbconvert_exporter": "python",
   "pygments_lexer": "ipython3",
   "version": "3.6.0"
  }
 },
 "nbformat": 4,
 "nbformat_minor": 2
}
